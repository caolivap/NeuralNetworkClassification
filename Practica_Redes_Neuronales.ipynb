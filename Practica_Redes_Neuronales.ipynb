{
  "nbformat": 4,
  "nbformat_minor": 0,
  "metadata": {
    "colab": {
      "name": "Practica Redes Neuronales.ipynb",
      "provenance": [],
      "collapsed_sections": [],
      "authorship_tag": "ABX9TyP7FXR+QEd9eah4q9pK7vEr",
      "include_colab_link": true
    },
    "kernelspec": {
      "name": "python3",
      "display_name": "Python 3"
    }
  },
  "cells": [
    {
      "cell_type": "markdown",
      "metadata": {
        "id": "view-in-github",
        "colab_type": "text"
      },
      "source": [
        "<a href=\"https://colab.research.google.com/github/caolivap/NeuralNetworkClassification/blob/master/Practica_Redes_Neuronales.ipynb\" target=\"_parent\"><img src=\"https://colab.research.google.com/assets/colab-badge.svg\" alt=\"Open In Colab\"/></a>"
      ]
    },
    {
      "cell_type": "markdown",
      "metadata": {
        "id": "GLRuTA7_HQ8-",
        "colab_type": "text"
      },
      "source": [
        "# Práctica para predecir imágenes de ropa\n",
        "\n"
      ]
    },
    {
      "cell_type": "code",
      "metadata": {
        "id": "WAHAJxVEFwoq",
        "colab_type": "code",
        "colab": {}
      },
      "source": [
        "try:\n",
        "  # %tensorflow_version only exists in Colab.\n",
        "  %tensorflow_version 2.x\n",
        "except Exception:\n",
        "  pass"
      ],
      "execution_count": 1,
      "outputs": []
    },
    {
      "cell_type": "code",
      "metadata": {
        "id": "rJNGA0qmH-QA",
        "colab_type": "code",
        "colab": {
          "base_uri": "https://localhost:8080/",
          "height": 34
        },
        "outputId": "2b6fc8ff-4fdb-4c75-f675-d168c937ecd2"
      },
      "source": [
        "from __future__ import absolute_import, division, print_function, unicode_literals\n",
        "\n",
        "# TensorFlow y tf.keras\n",
        "import tensorflow as tf\n",
        "from tensorflow import keras\n",
        "\n",
        "# Librerias de ayuda\n",
        "import numpy as np\n",
        "import matplotlib.pyplot as plt\n",
        "\n",
        "print(tf.__version__)"
      ],
      "execution_count": 2,
      "outputs": [
        {
          "output_type": "stream",
          "text": [
            "2.2.0\n"
          ],
          "name": "stdout"
        }
      ]
    },
    {
      "cell_type": "markdown",
      "metadata": {
        "colab_type": "text",
        "id": "DLdCchMdCaWQ"
      },
      "source": [
        "Usamos el dataset de datos de [Fashion MNIST](https://github.com/zalandoresearch/fashion-mnist)\n",
        "que contiene mas de 70,000 imágenes en 10 categorías. Las imágenes muestran artículos individuales de ropa a una resolución baja (28 por 28 pixeles) como se ve acá:\n",
        "\n",
        "<table>\n",
        "  <tr><td>\n",
        "    <img src=\"https://tensorflow.org/images/fashion-mnist-sprite.png\"\n",
        "         alt=\"Fashion MNIST sprite\"  width=\"600\">\n",
        "  </td></tr>\n",
        "  <tr><td align=\"center\">\n",
        "    <b>Figure 1.</b> <a href=\"https://github.com/zalandoresearch/fashion-mnist\">Fashion-MNIST samples</a> (by Zalando, MIT License).<br/>&nbsp;\n",
        "  </td></tr>\n",
        "</table>\n",
        "\n",
        "\n",
        "Se usarán 60,000 imágenes para entrenar la red neuronal y 10,000 imágenes para evaluar qué tan exacto aprende la red a clasificar imágenes. Accedemos al MNIST directamente desde TensorFlow. Lo importamos y cargamos el set de datos así:"
      ]
    },
    {
      "cell_type": "code",
      "metadata": {
        "colab_type": "code",
        "id": "7MqDQO0KCaWS",
        "colab": {}
      },
      "source": [
        "fashion_mnist = keras.datasets.fashion_mnist\n",
        "\n",
        "(train_images, train_labels), (test_images, test_labels) = fashion_mnist.load_data()"
      ],
      "execution_count": 3,
      "outputs": []
    },
    {
      "cell_type": "markdown",
      "metadata": {
        "id": "CQ3CYJCWN__K",
        "colab_type": "text"
      },
      "source": [
        "Las imagenes son 28x28 arreglos de NumPy, con valores de pixel que varían de 0 a 255. Los *labels* son un arreglo de enteros, que van del 0 al 9. Estos corresponden a la clase de ropa que la imagen representa.\n",
        "\n",
        "\n",
        "<table>\n",
        "  <tr>\n",
        "    <th>Label</th>\n",
        "    <th>Class</th>\n",
        "  </tr>\n",
        "  <tr>\n",
        "    <td>0</td>\n",
        "    <td>T-shirt/top</td>\n",
        "  </tr>\n",
        "  <tr>\n",
        "    <td>1</td>\n",
        "    <td>Trouser</td>\n",
        "  </tr>\n",
        "    <tr>\n",
        "    <td>2</td>\n",
        "    <td>Pullover</td>\n",
        "  </tr>\n",
        "    <tr>\n",
        "    <td>3</td>\n",
        "    <td>Dress</td>\n",
        "  </tr>\n",
        "    <tr>\n",
        "    <td>4</td>\n",
        "    <td>Coat</td>\n",
        "  </tr>\n",
        "    <tr>\n",
        "    <td>5</td>\n",
        "    <td>Sandal</td>\n",
        "  </tr>\n",
        "    <tr>\n",
        "    <td>6</td>\n",
        "    <td>Shirt</td>\n",
        "  </tr>\n",
        "    <tr>\n",
        "    <td>7</td>\n",
        "    <td>Sneaker</td>\n",
        "  </tr>\n",
        "    <tr>\n",
        "    <td>8</td>\n",
        "    <td>Bag</td>\n",
        "  </tr>\n",
        "    <tr>\n",
        "    <td>9</td>\n",
        "    <td>Ankle boot</td>\n",
        "  </tr>\n",
        "</table>\n",
        "\n",
        "Cada imagen es mapeada a una única etiqueta. Ya que los *Class names* no están incluidos en el dataset, los almacenamos para usarlos luego cuando se visualicen las imágenes:"
      ]
    },
    {
      "cell_type": "code",
      "metadata": {
        "id": "HA_52j7LOa7y",
        "colab_type": "code",
        "colab": {
          "base_uri": "https://localhost:8080/",
          "height": 34
        },
        "outputId": "de1e66b5-2c98-4830-c45c-006586239f84"
      },
      "source": [
        "class_names = ['T-shirt/top', 'Trouser', 'Pullover', 'Dress', 'Coat',\n",
        "               'Sandal', 'Shirt', 'Sneaker', 'Bag', 'Ankle boot']\n",
        "\n",
        "print (class_names)"
      ],
      "execution_count": 4,
      "outputs": [
        {
          "output_type": "stream",
          "text": [
            "['T-shirt/top', 'Trouser', 'Pullover', 'Dress', 'Coat', 'Sandal', 'Shirt', 'Sneaker', 'Bag', 'Ankle boot']\n"
          ],
          "name": "stdout"
        }
      ]
    },
    {
      "cell_type": "code",
      "metadata": {
        "colab_type": "code",
        "id": "zW5k_xz1CaWX",
        "colab": {
          "base_uri": "https://localhost:8080/",
          "height": 34
        },
        "outputId": "07cd47c9-c2ab-42be-9dfa-861e29b5427b"
      },
      "source": [
        "train_images.shape"
      ],
      "execution_count": 5,
      "outputs": [
        {
          "output_type": "execute_result",
          "data": {
            "text/plain": [
              "(60000, 28, 28)"
            ]
          },
          "metadata": {
            "tags": []
          },
          "execution_count": 5
        }
      ]
    },
    {
      "cell_type": "code",
      "metadata": {
        "colab_type": "code",
        "id": "TRFYHB2mCaWb",
        "colab": {
          "base_uri": "https://localhost:8080/",
          "height": 34
        },
        "outputId": "b38ccec5-9951-42a5-c131-3d58a0d0c5d8"
      },
      "source": [
        "len(train_labels)"
      ],
      "execution_count": 6,
      "outputs": [
        {
          "output_type": "execute_result",
          "data": {
            "text/plain": [
              "60000"
            ]
          },
          "metadata": {
            "tags": []
          },
          "execution_count": 6
        }
      ]
    },
    {
      "cell_type": "code",
      "metadata": {
        "colab_type": "code",
        "id": "XKnCTHz4CaWg",
        "colab": {
          "base_uri": "https://localhost:8080/",
          "height": 34
        },
        "outputId": "cb5c374d-a324-405b-eab8-5213187edc3b"
      },
      "source": [
        "train_labels"
      ],
      "execution_count": 7,
      "outputs": [
        {
          "output_type": "execute_result",
          "data": {
            "text/plain": [
              "array([9, 0, 0, ..., 3, 0, 5], dtype=uint8)"
            ]
          },
          "metadata": {
            "tags": []
          },
          "execution_count": 7
        }
      ]
    },
    {
      "cell_type": "code",
      "metadata": {
        "colab_type": "code",
        "id": "2KFnYlcwCaWl",
        "colab": {
          "base_uri": "https://localhost:8080/",
          "height": 34
        },
        "outputId": "a801389c-4754-4bf3-e95f-5100e16c05ca"
      },
      "source": [
        "test_images.shape"
      ],
      "execution_count": 8,
      "outputs": [
        {
          "output_type": "execute_result",
          "data": {
            "text/plain": [
              "(10000, 28, 28)"
            ]
          },
          "metadata": {
            "tags": []
          },
          "execution_count": 8
        }
      ]
    },
    {
      "cell_type": "code",
      "metadata": {
        "colab_type": "code",
        "id": "iJmPr5-ACaWn",
        "colab": {
          "base_uri": "https://localhost:8080/",
          "height": 34
        },
        "outputId": "a19c7ba7-ff5f-42bb-941b-d4d2c1f99019"
      },
      "source": [
        "len(test_labels)"
      ],
      "execution_count": 9,
      "outputs": [
        {
          "output_type": "execute_result",
          "data": {
            "text/plain": [
              "10000"
            ]
          },
          "metadata": {
            "tags": []
          },
          "execution_count": 9
        }
      ]
    },
    {
      "cell_type": "markdown",
      "metadata": {
        "colab_type": "text",
        "id": "ES6uQoLKCaWr"
      },
      "source": [
        "## Pre-procesamos el set de datos\n",
        "\n",
        "El set de datos debe ser pre-procesado antes de entrenar a la red. Podemos inspeccionar la primera imagen en el set de entrenamiento, encontraremos que los valores de los pixeles estan entre 0 y 255:"
      ]
    },
    {
      "cell_type": "code",
      "metadata": {
        "colab_type": "code",
        "id": "m4VEw8Ud9Quh",
        "colab": {
          "base_uri": "https://localhost:8080/",
          "height": 265
        },
        "outputId": "2ec88cb5-f09e-4c0a-88b0-4fde5a2c0169"
      },
      "source": [
        "plt.figure()\n",
        "plt.imshow(train_images[0])\n",
        "plt.colorbar()\n",
        "plt.grid(False)\n",
        "plt.show()"
      ],
      "execution_count": 10,
      "outputs": [
        {
          "output_type": "display_data",
          "data": {
            "image/png": "[encoded data removed]",
            "text/plain": [
              "<Figure size 432x288 with 2 Axes>"
            ]
          },
          "metadata": {
            "tags": [],
            "needs_background": "light"
          }
        }
      ]
    },
    {
      "cell_type": "code",
      "metadata": {
        "colab_type": "code",
        "id": "bW5WzIPlCaWv",
        "colab": {}
      },
      "source": [
        "train_images = train_images / 255.0\n",
        "\n",
        "test_images = test_images / 255.0"
      ],
      "execution_count": 11,
      "outputs": []
    },
    {
      "cell_type": "code",
      "metadata": {
        "colab_type": "code",
        "id": "oZTImqg_CaW1",
        "colab": {
          "base_uri": "https://localhost:8080/",
          "height": 589
        },
        "outputId": "a1e73a7e-ac44-430c-f353-56c2fa37a94e"
      },
      "source": [
        "plt.figure(figsize=(10,10))\n",
        "for i in range(25):\n",
        "    plt.subplot(5,5,i+1)\n",
        "    plt.xticks([])\n",
        "    plt.yticks([])\n",
        "    plt.grid(False)\n",
        "    plt.imshow(train_images[i], cmap=plt.cm.binary)\n",
        "    plt.xlabel(class_names[train_labels[i]])\n",
        "plt.show()"
      ],
      "execution_count": 12,
      "outputs": [
        {
          "output_type": "display_data",
          "data": {
            "image/png": "[encoded data removed]",
            "text/plain": [
              "<Figure size 720x720 with 25 Axes>"
            ]
          },
          "metadata": {
            "tags": []
          }
        }
      ]
    },
    {
      "cell_type": "markdown",
      "metadata": {
        "colab_type": "text",
        "id": "59veuiEZCaW4"
      },
      "source": [
        "## Construir el Modelo\n",
        "\n",
        "Construir la red neuronal requiere configurar las capas del modelo y luego compilar el modelo."
      ]
    },
    {
      "cell_type": "markdown",
      "metadata": {
        "colab_type": "text",
        "id": "Gxg1XGm0eOBy"
      },
      "source": [
        "### Configurar las Capas\n",
        "\n",
        "Los bloques de construcción básicos de una red neuronal son las *capas* o *layers*. Las capas extraen representaciones del set de datos que les alimentan. Con suerte, estas representaciones son considerables para el problema que estamos solucionando.\n",
        "\n",
        "La mayoria de aprendizaje profundo consiste de unir capas sencillas. \n",
        "La mayoria de las capas como `tf.keras.layers.Dense`, tienen parámetros que son aprendidos durante el entrenamiento."
      ]
    },
    {
      "cell_type": "code",
      "metadata": {
        "colab_type": "code",
        "id": "9ODch-OFCaW4",
        "colab": {}
      },
      "source": [
        "model = keras.Sequential([\n",
        "    keras.layers.Flatten(input_shape=(28, 28)),\n",
        "    keras.layers.Dense(128, activation='relu'),\n",
        "    keras.layers.Dense(10, activation='softmax')\n",
        "])"
      ],
      "execution_count": 13,
      "outputs": []
    },
    {
      "cell_type": "markdown",
      "metadata": {
        "colab_type": "text",
        "id": "gut8A_7rCaW6"
      },
      "source": [
        "### Compilamos el modelo\n",
        "\n",
        "Antes de que el modelo esté listo para entrenar, se necesitan algunas configuraciones más. Estas son agregadas durante el paso de compilación del modelo:\n",
        "\n",
        "* *Loss function* — Mide qué tan exacto es el modelo durante el entrenamiento. Se requiere minimizar esta función para dirigir el modelo en la dirección adecuada.\n",
        "* *Optimizer* — Representa cómo el modelo se actualiza basado en el set de datos que ve y la funcion de pérdida.\n",
        "* *Metrics* — Se usan para monitorear los pasos de entrenamiento y de pruebas.\n",
        "El siguiente ejemplo usa *accuracy* (exactitud) , la fracción de las imágenes que son correctamente clasificadas."
      ]
    },
    {
      "cell_type": "code",
      "metadata": {
        "colab_type": "code",
        "id": "Lhan11blCaW7",
        "colab": {}
      },
      "source": [
        "model.compile(optimizer='adam',\n",
        "              loss='sparse_categorical_crossentropy',\n",
        "              metrics=['accuracy'])"
      ],
      "execution_count": 14,
      "outputs": []
    },
    {
      "cell_type": "markdown",
      "metadata": {
        "colab_type": "text",
        "id": "qKF6uW-BCaW-"
      },
      "source": [
        "## Entrenar el Modelo\n",
        "\n",
        "Entrenar el modelo de red neuronal requiere de los siguientes pasos:\n",
        "\n",
        "1. Entregar los datos de entrenamiento al modelo. En esta práctica, el set de datos de entrenamiento están en los arreglos `train_images` y `train_labels`.\n",
        "2. El modelo aprende a asociar imágenes y etiquetas.\n",
        "3. Le preguntamos al modelo que haga predicciones sobre un set de datos que se encuentran en el ejemplo, incluido en el arreglo `test_images`. Luego verificamos que las predicciones sean iguales a las etiquetas del arreglo `test_labels`.\n",
        "\n",
        "Para comenzar a entrenar, Hacemos uso del método `model.fit`, es llamado así porque *fit* (ajusta) el modelo al set de datos de entrenamiento:"
      ]
    },
    {
      "cell_type": "code",
      "metadata": {
        "colab_type": "code",
        "id": "xvwvpA64CaW_",
        "colab": {
          "base_uri": "https://localhost:8080/",
          "height": 374
        },
        "outputId": "302e04c6-4617-4d8c-8d59-d6d33447c0f0"
      },
      "source": [
        "model.fit(train_images, train_labels, epochs=10)"
      ],
      "execution_count": 15,
      "outputs": [
        {
          "output_type": "stream",
          "text": [
            "Epoch 1/10\n",
            "1875/1875 [==============================] - 4s 2ms/step - loss: 0.4978 - accuracy: 0.8247\n",
            "Epoch 2/10\n",
            "1875/1875 [==============================] - 3s 2ms/step - loss: 0.3745 - accuracy: 0.8658\n",
            "Epoch 3/10\n",
            "1875/1875 [==============================] - 3s 2ms/step - loss: 0.3363 - accuracy: 0.8769\n",
            "Epoch 4/10\n",
            "1875/1875 [==============================] - 3s 2ms/step - loss: 0.3109 - accuracy: 0.8866\n",
            "Epoch 5/10\n",
            "1875/1875 [==============================] - 3s 2ms/step - loss: 0.2950 - accuracy: 0.8912\n",
            "Epoch 6/10\n",
            "1875/1875 [==============================] - 3s 2ms/step - loss: 0.2803 - accuracy: 0.8959\n",
            "Epoch 7/10\n",
            "1875/1875 [==============================] - 3s 2ms/step - loss: 0.2689 - accuracy: 0.8990\n",
            "Epoch 8/10\n",
            "1875/1875 [==============================] - 3s 2ms/step - loss: 0.2572 - accuracy: 0.9043\n",
            "Epoch 9/10\n",
            "1875/1875 [==============================] - 3s 2ms/step - loss: 0.2480 - accuracy: 0.9077\n",
            "Epoch 10/10\n",
            "1875/1875 [==============================] - 3s 2ms/step - loss: 0.2403 - accuracy: 0.9096\n"
          ],
          "name": "stdout"
        },
        {
          "output_type": "execute_result",
          "data": {
            "text/plain": [
              "<tensorflow.python.keras.callbacks.History at 0x7f6b48933898>"
            ]
          },
          "metadata": {
            "tags": []
          },
          "execution_count": 15
        }
      ]
    },
    {
      "cell_type": "markdown",
      "metadata": {
        "colab_type": "text",
        "id": "W3ZVOhugCaXA"
      },
      "source": [
        "A medida que el modelo entrena, la pérdida y la exactitud son desplegadas. ¿Qué exactitud alncazó el modelo sobre el set de datos de entrenamiento?"
      ]
    },
    {
      "cell_type": "markdown",
      "metadata": {
        "colab_type": "text",
        "id": "oEw4bZgGCaXB"
      },
      "source": [
        "## Evaluar Exactitud\n",
        "\n",
        "A continuación, comparamos cómo es el rendimiento del modelo sobre el set de datos de prueba:"
      ]
    },
    {
      "cell_type": "code",
      "metadata": {
        "colab_type": "code",
        "id": "VflXLEeECaXC",
        "colab": {
          "base_uri": "https://localhost:8080/",
          "height": 68
        },
        "outputId": "38bd8ca2-1ce5-48b7-ca42-02bff35d5d32"
      },
      "source": [
        "test_loss, test_acc = model.evaluate(test_images,  test_labels, verbose=2)\n",
        "\n",
        "print('\\nTest accuracy:', test_acc)"
      ],
      "execution_count": 16,
      "outputs": [
        {
          "output_type": "stream",
          "text": [
            "313/313 - 0s - loss: 0.3492 - accuracy: 0.8784\n",
            "\n",
            "Test accuracy: 0.8784000277519226\n"
          ],
          "name": "stdout"
        }
      ]
    },
    {
      "cell_type": "markdown",
      "metadata": {
        "colab_type": "text",
        "id": "xsoS7CPDCaXH"
      },
      "source": [
        "## Hacer predicciones\n",
        "\n",
        "Con el modelo entrenado, ya podemos usarlo para hacer predicciones sobre imágenes."
      ]
    },
    {
      "cell_type": "code",
      "metadata": {
        "colab_type": "code",
        "id": "Gl91RPhdCaXI",
        "colab": {}
      },
      "source": [
        "predictions = model.predict(test_images)"
      ],
      "execution_count": 17,
      "outputs": []
    },
    {
      "cell_type": "markdown",
      "metadata": {
        "colab_type": "text",
        "id": "x9Kk1voUCaXJ"
      },
      "source": [
        "Aca, el modelo ha predecido la etiqueta para cada imagen en el set de datos de *test* (prueba). Miremos la primera prediccion:"
      ]
    },
    {
      "cell_type": "code",
      "metadata": {
        "colab_type": "code",
        "id": "3DmJEUinCaXK",
        "colab": {
          "base_uri": "https://localhost:8080/",
          "height": 68
        },
        "outputId": "20fb9c9d-5d16-421e-e70e-a2b8553dd6bf"
      },
      "source": [
        "predictions[0]"
      ],
      "execution_count": 18,
      "outputs": [
        {
          "output_type": "execute_result",
          "data": {
            "text/plain": [
              "array([7.2787416e-09, 2.2216093e-10, 8.2118534e-09, 1.0837636e-09,\n",
              "       7.2267552e-09, 2.0315185e-05, 7.3401722e-08, 2.0030807e-03,\n",
              "       5.4563416e-09, 9.9797648e-01], dtype=float32)"
            ]
          },
          "metadata": {
            "tags": []
          },
          "execution_count": 18
        }
      ]
    },
    {
      "cell_type": "markdown",
      "metadata": {
        "colab_type": "text",
        "id": "-hw1hgeSCaXN"
      },
      "source": [
        "*una* prediccion es un arreglo de 10 numeros. Estos representan el nivel de \"confianza\" del modelo sobre las imagenes de cada uno de los 10 articulos de moda/ropa. Ustedes pueden revisar cual tiene el nivel mas alto de confianza:"
      ]
    },
    {
      "cell_type": "code",
      "metadata": {
        "colab_type": "code",
        "id": "qsqenuPnCaXO",
        "colab": {
          "base_uri": "https://localhost:8080/",
          "height": 34
        },
        "outputId": "8d9ef200-ef9a-41a4-94d3-d1098513b70c"
      },
      "source": [
        "np.argmax(predictions[0])"
      ],
      "execution_count": 19,
      "outputs": [
        {
          "output_type": "execute_result",
          "data": {
            "text/plain": [
              "9"
            ]
          },
          "metadata": {
            "tags": []
          },
          "execution_count": 19
        }
      ]
    },
    {
      "cell_type": "markdown",
      "metadata": {
        "colab_type": "text",
        "id": "E51yS7iCCaXO"
      },
      "source": [
        "Entonces, el modelo tiene mayor confianza que esta imagen es un bota de tobillo \"ankle boot\" o `class_names[9]`. Examinando las etiquetas de *test* o de pruebas muestra que esta clasificación es correcta:"
      ]
    },
    {
      "cell_type": "code",
      "metadata": {
        "colab_type": "code",
        "id": "Sd7Pgsu6CaXP",
        "colab": {
          "base_uri": "https://localhost:8080/",
          "height": 34
        },
        "outputId": "7bc99c7c-2631-43c0-d2f6-4f3f75017802"
      },
      "source": [
        "test_labels[0]"
      ],
      "execution_count": 20,
      "outputs": [
        {
          "output_type": "execute_result",
          "data": {
            "text/plain": [
              "9"
            ]
          },
          "metadata": {
            "tags": []
          },
          "execution_count": 20
        }
      ]
    },
    {
      "cell_type": "markdown",
      "metadata": {
        "colab_type": "text",
        "id": "ygh2yYC972ne"
      },
      "source": [
        "**Graficamos** esto para poder ver todo el set de la predicción de las 10 clases."
      ]
    },
    {
      "cell_type": "code",
      "metadata": {
        "colab_type": "code",
        "id": "DvYmmrpIy6Y1",
        "colab": {}
      },
      "source": [
        "def plot_image(i, predictions_array, true_label, img):\n",
        "  predictions_array, true_label, img = predictions_array, true_label[i], img[i]\n",
        "  plt.grid(False)\n",
        "  plt.xticks([])\n",
        "  plt.yticks([])\n",
        "\n",
        "  plt.imshow(img, cmap=plt.cm.binary)\n",
        "\n",
        "  predicted_label = np.argmax(predictions_array)\n",
        "  if predicted_label == true_label:\n",
        "    color = 'blue'\n",
        "  else:\n",
        "    color = 'red'\n",
        "\n",
        "  plt.xlabel(\"{} {:2.0f}% ({})\".format(class_names[predicted_label],\n",
        "                                100*np.max(predictions_array),\n",
        "                                class_names[true_label]),\n",
        "                                color=color)\n",
        "\n",
        "def plot_value_array(i, predictions_array, true_label):\n",
        "  predictions_array, true_label = predictions_array, true_label[i]\n",
        "  plt.grid(False)\n",
        "  plt.xticks(range(10))\n",
        "  plt.yticks([])\n",
        "  thisplot = plt.bar(range(10), predictions_array, color=\"#777777\")\n",
        "  plt.ylim([0, 1])\n",
        "  predicted_label = np.argmax(predictions_array)\n",
        "\n",
        "  thisplot[predicted_label].set_color('red')\n",
        "  thisplot[true_label].set_color('blue')"
      ],
      "execution_count": 21,
      "outputs": []
    },
    {
      "cell_type": "markdown",
      "metadata": {
        "colab_type": "text",
        "id": "d4Ov9OFDMmOD"
      },
      "source": [
        "Miremos la imagen [0], sus predicciones y el arreglo de predicciones. Las etiquetas de prediccion correctas estan en azul y las incorrectas estan en rojo. El numero entrega el porcentaje (sobre 100) para la etiqueta predecida."
      ]
    },
    {
      "cell_type": "code",
      "metadata": {
        "colab_type": "code",
        "id": "HV5jw-5HwSmO",
        "colab": {
          "base_uri": "https://localhost:8080/",
          "height": 211
        },
        "outputId": "44dcd214-eb90-4096-9dbd-a57790c264bc"
      },
      "source": [
        "i = 0\n",
        "plt.figure(figsize=(6,3))\n",
        "plt.subplot(1,2,1)\n",
        "plot_image(i, predictions[i], test_labels, test_images)\n",
        "plt.subplot(1,2,2)\n",
        "plot_value_array(i, predictions[i],  test_labels)\n",
        "plt.show()"
      ],
      "execution_count": 22,
      "outputs": [
        {
          "output_type": "display_data",
          "data": {
            "image/png": "[encoded data removed]",
            "text/plain": [
              "<Figure size 432x216 with 2 Axes>"
            ]
          },
          "metadata": {
            "tags": [],
            "needs_background": "light"
          }
        }
      ]
    },
    {
      "cell_type": "code",
      "metadata": {
        "colab_type": "code",
        "id": "Ko-uzOufSCSe",
        "colab": {
          "base_uri": "https://localhost:8080/",
          "height": 211
        },
        "outputId": "b3b8c27a-e67c-4372-bff0-e0543a52a009"
      },
      "source": [
        "i = 12\n",
        "plt.figure(figsize=(6,3))\n",
        "plt.subplot(1,2,1)\n",
        "plot_image(i, predictions[i], test_labels, test_images)\n",
        "plt.subplot(1,2,2)\n",
        "plot_value_array(i, predictions[i],  test_labels)\n",
        "plt.show()"
      ],
      "execution_count": 23,
      "outputs": [
        {
          "output_type": "display_data",
          "data": {
            "image/png": "[encoded data removed]",
            "text/plain": [
              "<Figure size 432x216 with 2 Axes>"
            ]
          },
          "metadata": {
            "tags": [],
            "needs_background": "light"
          }
        }
      ]
    },
    {
      "cell_type": "markdown",
      "metadata": {
        "colab_type": "text",
        "id": "kgdvGD52CaXR"
      },
      "source": [
        "Vamos a graficar multiples imagenes con sus predicciones. Notese que el modelo puede estar equivocado aun cuando tiene mucha confianza."
      ]
    },
    {
      "cell_type": "code",
      "metadata": {
        "colab_type": "code",
        "id": "hQlnbqaw2Qu_",
        "colab": {
          "base_uri": "https://localhost:8080/",
          "height": 729
        },
        "outputId": "d81e9967-c974-4f46-d499-a3bd37cd8650"
      },
      "source": [
        "num_rows = 5\n",
        "num_cols = 3\n",
        "num_images = num_rows*num_cols\n",
        "plt.figure(figsize=(2*2*num_cols, 2*num_rows))\n",
        "for i in range(num_images):\n",
        "  plt.subplot(num_rows, 2*num_cols, 2*i+1)\n",
        "  plot_image(i, predictions[i], test_labels, test_images)\n",
        "  plt.subplot(num_rows, 2*num_cols, 2*i+2)\n",
        "  plot_value_array(i, predictions[i], test_labels)\n",
        "plt.tight_layout()\n",
        "plt.show()"
      ],
      "execution_count": 24,
      "outputs": [
        {
          "output_type": "display_data",
          "data": {
            "image/png": "[encoded data removed]",
            "text/plain": [
              "<Figure size 864x720 with 30 Axes>"
            ]
          },
          "metadata": {
            "tags": [],
            "needs_background": "light"
          }
        }
      ]
    },
    {
      "cell_type": "markdown",
      "metadata": {
        "colab_type": "text",
        "id": "R32zteKHCaXT"
      },
      "source": [
        "Finalmente, usamos el modelo entrenado para hacer una predicción sobre una única imagen."
      ]
    },
    {
      "cell_type": "code",
      "metadata": {
        "colab_type": "code",
        "id": "yRJ7JU7JCaXT",
        "colab": {
          "base_uri": "https://localhost:8080/",
          "height": 34
        },
        "outputId": "d0d0823f-3d1a-4151-8ec2-822bf0bd4f6e"
      },
      "source": [
        "img = test_images[1]\n",
        "print(img.shape)"
      ],
      "execution_count": 27,
      "outputs": [
        {
          "output_type": "stream",
          "text": [
            "(28, 28)\n"
          ],
          "name": "stdout"
        }
      ]
    },
    {
      "cell_type": "markdown",
      "metadata": {
        "colab_type": "text",
        "id": "vz3bVp21CaXV"
      },
      "source": [
        "Los modelos de `tf.keras` son optimizados sobre *batch* o bloques, \n",
        "o coleciones de ejemplos por vez.\n",
        "De acuerdo a esto, aunque use una unica imagen hay que agregarla a una lista:"
      ]
    },
    {
      "cell_type": "code",
      "metadata": {
        "colab_type": "code",
        "id": "lDFh5yF_CaXW",
        "colab": {
          "base_uri": "https://localhost:8080/",
          "height": 34
        },
        "outputId": "520c3858-e48f-42db-9581-30c08fe3d962"
      },
      "source": [
        "img = (np.expand_dims(img,0))\n",
        "print(img.shape)"
      ],
      "execution_count": 28,
      "outputs": [
        {
          "output_type": "stream",
          "text": [
            "(1, 28, 28)\n"
          ],
          "name": "stdout"
        }
      ]
    },
    {
      "cell_type": "markdown",
      "metadata": {
        "colab_type": "text",
        "id": "EQ5wLTkcCaXY"
      },
      "source": [
        "Ahora generemos la predicción de la etiqueta correcta para esta imagen:"
      ]
    },
    {
      "cell_type": "code",
      "metadata": {
        "colab_type": "code",
        "id": "o_rzNSdrCaXY",
        "colab": {
          "base_uri": "https://localhost:8080/",
          "height": 51
        },
        "outputId": "fbb9bef1-1341-456b-cc9b-aaae06ce9844"
      },
      "source": [
        "predictions_single = model.predict(img)\n",
        "print(predictions_single)"
      ],
      "execution_count": 29,
      "outputs": [
        {
          "output_type": "stream",
          "text": [
            "[[2.3111128e-05 5.5915510e-13 9.9963319e-01 2.7451802e-12 3.1895653e-04\n",
            "  2.2908890e-09 2.4697461e-05 1.7236168e-16 5.0467394e-13 1.8752697e-16]]\n"
          ],
          "name": "stdout"
        }
      ]
    },
    {
      "cell_type": "code",
      "metadata": {
        "colab_type": "code",
        "id": "6Ai-cpLjO-3A",
        "colab": {
          "base_uri": "https://localhost:8080/",
          "height": 300
        },
        "outputId": "63444504-e09e-447c-e8b1-57163d2cc2af"
      },
      "source": [
        "plot_value_array(1, predictions_single[0], test_labels) \n",
        "_ = plt.xticks(range(10), class_names, rotation=45)"
      ],
      "execution_count": 30,
      "outputs": [
        {
          "output_type": "display_data",
          "data": {
            "image/png": "[encoded data removed]",
            "text/plain": [
              "<Figure size 432x288 with 1 Axes>"
            ]
          },
          "metadata": {
            "tags": [],
            "needs_background": "light"
          }
        }
      ]
    },
    {
      "cell_type": "markdown",
      "metadata": {
        "colab_type": "text",
        "id": "cU1Y2OAMCaXb"
      },
      "source": [
        "`model.predict` retorna una lista de listas para cada imagen dentro del *batch* o bloque de datos. Tomemos la predicción para nuestra única imagen dentro del *batch* o bloque:"
      ]
    },
    {
      "cell_type": "code",
      "metadata": {
        "colab_type": "code",
        "id": "2tRmdq_8CaXb",
        "colab": {
          "base_uri": "https://localhost:8080/",
          "height": 34
        },
        "outputId": "3b63a4ea-48ef-4a00-c44d-1a5682111ec7"
      },
      "source": [
        "np.argmax(predictions_single[0])"
      ],
      "execution_count": 31,
      "outputs": [
        {
          "output_type": "execute_result",
          "data": {
            "text/plain": [
              "2"
            ]
          },
          "metadata": {
            "tags": []
          },
          "execution_count": 31
        }
      ]
    },
    {
      "cell_type": "code",
      "metadata": {
        "id": "0Da_t13scmsa",
        "colab_type": "code",
        "colab": {
          "base_uri": "https://localhost:8080/",
          "height": 51
        },
        "outputId": "45756252-aea7-463e-c40e-0d36390efaaf"
      },
      "source": [
        "print (test_labels[1])\n",
        "print (class_names[2])"
      ],
      "execution_count": 32,
      "outputs": [
        {
          "output_type": "stream",
          "text": [
            "2\n",
            "Pullover\n"
          ],
          "name": "stdout"
        }
      ]
    },
    {
      "cell_type": "markdown",
      "metadata": {
        "colab_type": "text",
        "id": "YFc2HbEVCaXd"
      },
      "source": [
        "El modelo predice una etiqueta de 2 (Pullover)."
      ]
    },
    {
      "cell_type": "markdown",
      "metadata": {
        "id": "jUr_ErvWql2p",
        "colab_type": "text"
      },
      "source": [
        "# Métricas para este modelo"
      ]
    },
    {
      "cell_type": "markdown",
      "metadata": {
        "id": "rkYhoUL9lQ35",
        "colab_type": "text"
      },
      "source": [
        "Vamos calcular las métricas para verificar la calidad de este modelo de clasificación\n"
      ]
    },
    {
      "cell_type": "code",
      "metadata": {
        "id": "UNrv3NWGj5jy",
        "colab_type": "code",
        "colab": {
          "base_uri": "https://localhost:8080/",
          "height": 88
        },
        "outputId": "10126990-f307-4142-c449-3ff864e360ce"
      },
      "source": [
        "\n",
        "y_pred=[]\n",
        "for element in range(len(predictions)):\n",
        "  a = np.argmax(predictions[element])\n",
        "  y_pred.append(a)\n",
        "\n",
        "print(y_pred)\n",
        "\n",
        "y_true=test_labels.tolist()\n",
        "print(y_true)\n",
        "print(test_labels)\n",
        "\n",
        "y_true2D = test_labels"
      ],
      "execution_count": 40,
      "outputs": [
        {
          "output_type": "stream",
          "text": [
            "[9, 2, 1, 1, 6, 1, 4, 6, 5, 7, 4, 5, 5, 3, 4, 1, 2, 2, 8, 0, 2, 5, 7, 5, 1, 2, 6, 0, 9, 3, 8, 8, 3, 3, 8, 0, 7, 5, 7, 9, 0, 1, 6, 9, 6, 7, 2, 1, 2, 6, 4, 2, 5, 8, 2, 2, 8, 4, 8, 0, 7, 7, 8, 5, 1, 1, 6, 4, 7, 8, 7, 0, 2, 6, 2, 3, 1, 2, 8, 4, 1, 8, 5, 9, 5, 0, 3, 2, 0, 2, 5, 3, 6, 7, 1, 8, 0, 1, 4, 2, 3, 6, 7, 2, 7, 8, 5, 9, 9, 4, 2, 5, 7, 0, 5, 2, 8, 6, 7, 8, 0, 0, 9, 9, 3, 0, 8, 2, 1, 5, 4, 1, 9, 1, 8, 4, 2, 1, 2, 5, 1, 0, 0, 0, 1, 6, 1, 3, 2, 2, 3, 2, 1, 3, 5, 0, 4, 7, 9, 3, 7, 2, 3, 9, 0, 9, 4, 7, 4, 2, 0, 5, 2, 1, 2, 1, 3, 0, 9, 1, 0, 9, 3, 6, 7, 9, 9, 4, 4, 7, 1, 2, 1, 6, 3, 2, 8, 3, 6, 1, 1, 0, 2, 9, 2, 4, 0, 7, 9, 8, 4, 1, 8, 4, 1, 3, 1, 6, 7, 2, 8, 5, 4, 0, 7, 7, 6, 6, 7, 0, 7, 8, 9, 2, 9, 0, 5, 1, 4, 2, 5, 4, 9, 2, 2, 8, 6, 2, 2, 4, 9, 7, 6, 5, 5, 2, 8, 5, 2, 3, 0, 4, 8, 0, 0, 6, 4, 8, 9, 6, 1, 6, 0, 2, 3, 0, 8, 3, 7, 4, 0, 1, 2, 4, 0, 4, 6, 7, 5, 4, 5, 9, 5, 6, 5, 5, 1, 9, 8, 8, 3, 3, 6, 8, 0, 0, 2, 9, 7, 9, 1, 3, 6, 4, 2, 4, 7, 1, 6, 4, 8, 2, 6, 5, 6, 2, 7, 7, 7, 3, 3, 7, 0, 7, 1, 3, 7, 2, 2, 3, 4, 0, 3, 1, 0, 1, 9, 4, 9, 9, 1, 7, 8, 3, 0, 0, 2, 4, 8, 0, 1, 6, 2, 4, 4, 7, 3, 2, 2, 5, 0, 7, 9, 4, 6, 9, 3, 9, 3, 2, 5, 6, 0, 3, 5, 8, 1, 6, 2, 6, 6, 4, 9, 5, 2, 0, 6, 6, 1, 2, 0, 9, 7, 0, 4, 4, 2, 0, 2, 4, 0, 6, 7, 0, 9, 4, 2, 1, 5, 4, 5, 3, 8, 5, 8, 4, 4, 8, 9, 8, 6, 2, 4, 4, 2, 4, 1, 6, 1, 3, 0, 7, 8, 8, 4, 5, 3, 1, 9, 5, 3, 3, 0, 1, 2, 2, 9, 4, 0, 6, 0, 4, 2, 0, 0, 3, 3, 8, 2, 8, 9, 4, 0, 7, 0, 4, 4, 9, 2, 9, 5, 9, 3, 7, 5, 7, 8, 1, 0, 0, 6, 6, 8, 9, 7, 9, 1, 2, 7, 0, 2, 0, 5, 7, 1, 8, 2, 2, 2, 2, 4, 2, 6, 1, 9, 8, 5, 1, 9, 1, 2, 8, 3, 8, 9, 2, 4, 2, 8, 0, 2, 0, 5, 8, 8, 5, 3, 9, 4, 3, 4, 2, 5, 1, 0, 1, 2, 0, 4, 9, 6, 1, 5, 1, 1, 1, 9, 3, 4, 5, 3, 6, 2, 0, 4, 0, 0, 5, 8, 0, 3, 4, 0, 7, 7, 8, 9, 0, 3, 8, 7, 0, 7, 9, 3, 4, 0, 6, 5, 0, 1, 1, 5, 9, 4, 2, 5, 7, 8, 1, 2, 9, 7, 7, 1, 0, 9, 3, 2, 9, 0, 7, 6, 8, 2, 7, 0, 2, 3, 8, 2, 2, 6, 9, 3, 0, 7, 8, 6, 2, 9, 4, 2, 6, 2, 0, 0, 4, 4, 2, 7, 5, 8, 4, 9, 1, 0, 5, 4, 4, 4, 0, 0, 4, 5, 6, 0, 4, 5, 4, 1, 3, 1, 3, 6, 4, 3, 8, 2, 0, 6, 5, 0, 4, 0, 8, 5, 0, 8, 2, 9, 0, 8, 9, 6, 4, 2, 9, 2, 2, 5, 0, 9, 5, 3, 6, 6, 2, 3, 3, 8, 1, 4, 0, 9, 7, 9, 4, 8, 9, 1, 0, 7, 3, 0, 4, 4, 9, 1, 0, 0, 8, 7, 2, 6, 4, 4, 4, 1, 5, 9, 0, 0, 1, 6, 5, 0, 0, 3, 3, 3, 8, 1, 1, 8, 5, 7, 7, 8, 7, 2, 6, 7, 0, 8, 0, 9, 7, 6, 1, 6, 2, 4, 8, 0, 6, 3, 6, 8, 4, 0, 8, 9, 2, 4, 5, 9, 1, 4, 4, 9, 2, 1, 7, 9, 5, 8, 3, 7, 7, 1, 1, 1, 2, 9, 5, 3, 8, 4, 2, 9, 2, 8, 3, 2, 4, 4, 7, 1, 4, 9, 3, 5, 8, 5, 4, 7, 2, 8, 5, 9, 3, 3, 2, 7, 1, 7, 3, 5, 4, 4, 5, 8, 3, 7, 1, 2, 6, 1, 9, 8, 2, 7, 1, 4, 7, 5, 9, 9, 1, 8, 4, 5, 7, 1, 9, 8, 1, 0, 0, 2, 1, 7, 1, 1, 5, 7, 1, 5, 2, 2, 3, 3, 1, 1, 4, 9, 4, 3, 7, 7, 6, 8, 9, 9, 6, 1, 3, 4, 0, 0, 5, 9, 4, 0, 5, 5, 1, 5, 7, 8, 7, 9, 3, 6, 2, 0, 4, 0, 2, 0, 2, 5, 5, 1, 2, 0, 9, 3, 7, 6, 4, 8, 3, 4, 7, 6, 7, 4, 8, 6, 3, 4, 4, 3, 6, 9, 6, 6, 4, 9, 1, 8, 1, 7, 5, 5, 6, 0, 2, 1, 0, 5, 4, 0, 0, 2, 7, 5, 0, 4, 5, 9, 6, 8, 2, 0, 4, 6, 2, 9, 6, 7, 7, 1, 4, 4, 0, 5, 0, 9, 9, 8, 8, 3, 0, 2, 4, 6, 6, 3, 2, 3, 5, 2, 9, 3, 4, 7, 7, 6, 3, 5, 5, 2, 4, 5, 9, 6, 3, 7, 5, 1, 9, 8, 8, 9, 9, 2, 7, 2, 2, 3, 8, 7, 4, 4, 5, 4, 3, 6, 1, 4, 9, 3, 1, 6, 5, 0, 5, 7, 5, 2, 3, 3, 9, 6, 3, 6, 0, 4, 7, 0, 2, 9, 2, 0, 3, 4, 7, 0, 2, 1, 1, 4, 4, 8, 5, 9, 0, 1, 6, 5, 1, 4, 4, 8, 4, 7, 7, 3, 8, 1, 1, 9, 8, 1, 3, 3, 7, 5, 1, 5, 7, 8, 9, 6, 3, 5, 8, 4, 6, 3, 8, 4, 5, 5, 6, 7, 1, 5, 3, 5, 4, 8, 6, 2, 1, 1, 7, 9, 2, 2, 7, 0, 4, 8, 2, 2, 0, 6, 4, 4, 9, 6, 8, 4, 5, 9, 6, 3, 9, 4, 9, 8, 7, 4, 2, 2, 5, 3, 7, 0, 7, 2, 9, 3, 7, 0, 9, 3, 8, 4, 4, 7, 2, 4, 6, 2, 0, 7, 8, 4, 2, 4, 5, 5, 6, 4, 5, 5, 8, 1, 1, 7, 4, 6, 9, 0, 8, 7, 2, 0, 1, 2, 7, 7, 6, 9, 8, 5, 1, 1, 0, 2, 0, 9, 3, 1, 9, 0, 5, 5, 2, 0, 7, 0, 2, 6, 1, 3, 1, 3, 2, 7, 2, 4, 9, 5, 2, 9, 6, 3, 4, 4, 0, 6, 5, 2, 2, 5, 6, 1, 4, 2, 5, 4, 4, 8, 0, 2, 4, 0, 6, 3, 6, 8, 3, 8, 2, 0, 4, 4, 8, 8, 4, 5, 2, 2, 3, 0, 1, 9, 0, 9, 1, 9, 6, 5, 2, 4, 7, 3, 8, 5, 0, 8, 0, 9, 5, 5, 9, 5, 0, 0, 0, 3, 4, 4, 4, 5, 7, 1, 3, 4, 6, 4, 5, 1, 6, 7, 3, 4, 8, 8, 4, 8, 9, 4, 1, 6, 5, 2, 7, 8, 5, 6, 8, 5, 2, 2, 8, 9, 8, 4, 4, 3, 8, 8, 3, 0, 9, 4, 2, 8, 1, 3, 6, 1, 9, 2, 1, 6, 4, 7, 9, 4, 6, 0, 4, 4, 2, 4, 5, 0, 2, 8, 3, 7, 6, 4, 0, 0, 5, 4, 8, 2, 4, 3, 0, 2, 1, 7, 7, 5, 4, 7, 2, 2, 7, 3, 3, 1, 3, 3, 6, 0, 1, 7, 6, 4, 7, 1, 0, 6, 5, 8, 4, 6, 7, 9, 5, 0, 7, 9, 5, 1, 2, 9, 5, 5, 3, 9, 9, 1, 6, 7, 8, 0, 1, 7, 2, 7, 1, 1, 5, 5, 6, 4, 5, 9, 5, 5, 2, 3, 9, 3, 8, 5, 4, 0, 0, 0, 5, 7, 3, 5, 2, 0, 4, 4, 7, 6, 0, 5, 1, 7, 2, 3, 2, 8, 7, 8, 7, 1, 2, 3, 2, 9, 7, 5, 6, 1, 0, 7, 1, 2, 0, 9, 3, 6, 4, 4, 3, 0, 6, 2, 3, 6, 1, 3, 5, 2, 5, 3, 9, 1, 1, 8, 0, 9, 5, 0, 7, 4, 6, 7, 1, 1, 5, 3, 8, 9, 8, 3, 8, 9, 0, 2, 1, 1, 3, 5, 6, 7, 1, 9, 9, 2, 4, 7, 0, 1, 3, 9, 4, 3, 9, 2, 8, 1, 8, 0, 7, 9, 8, 5, 8, 2, 0, 4, 0, 6, 5, 8, 3, 8, 7, 5, 7, 3, 7, 0, 7, 0, 2, 2, 5, 3, 5, 1, 1, 7, 7, 6, 3, 6, 4, 2, 8, 6, 3, 1, 4, 9, 9, 2, 5, 2, 2, 7, 8, 0, 7, 9, 1, 2, 9, 4, 7, 3, 4, 3, 3, 1, 8, 8, 5, 3, 8, 0, 3, 4, 3, 6, 0, 2, 7, 3, 6, 8, 3, 7, 7, 3, 1, 7, 5, 8, 8, 2, 0, 0, 4, 4, 2, 5, 7, 0, 6, 0, 7, 9, 3, 9, 4, 5, 9, 7, 3, 7, 2, 2, 5, 1, 4, 5, 4, 5, 0, 4, 2, 1, 4, 4, 6, 4, 5, 9, 4, 1, 1, 7, 2, 3, 5, 6, 3, 9, 7, 5, 3, 8, 8, 8, 9, 1, 1, 6, 3, 1, 4, 3, 4, 9, 9, 6, 0, 6, 9, 4, 9, 0, 6, 1, 8, 9, 2, 9, 4, 8, 0, 7, 2, 3, 6, 2, 5, 6, 1, 9, 0, 4, 2, 9, 9, 0, 8, 3, 0, 6, 6, 0, 4, 2, 6, 6, 5, 0, 2, 7, 8, 7, 4, 6, 6, 6, 5, 2, 4, 2, 9, 5, 2, 6, 7, 0, 1, 9, 5, 5, 0, 7, 7, 5, 0, 5, 0, 8, 4, 7, 9, 8, 2, 4, 7, 3, 3, 7, 7, 7, 8, 2, 9, 5, 7, 6, 5, 7, 5, 1, 3, 0, 4, 9, 9, 8, 4, 7, 0, 4, 4, 9, 3, 3, 1, 9, 9, 1, 5, 7, 2, 7, 6, 5, 7, 3, 7, 5, 5, 4, 0, 7, 3, 3, 2, 0, 2, 9, 9, 0, 3, 0, 8, 3, 8, 6, 4, 4, 1, 8, 2, 8, 5, 0, 2, 2, 3, 0, 0, 1, 6, 8, 4, 9, 0, 7, 0, 7, 7, 1, 5, 8, 7, 2, 9, 9, 1, 2, 6, 1, 1, 1, 8, 8, 1, 3, 7, 5, 2, 0, 8, 4, 8, 9, 2, 1, 3, 1, 9, 8, 1, 1, 1, 8, 0, 9, 9, 7, 6, 0, 4, 2, 1, 1, 7, 9, 2, 2, 0, 3, 6, 4, 8, 1, 7, 2, 4, 2, 2, 4, 8, 7, 1, 8, 5, 5, 9, 7, 6, 6, 2, 9, 0, 6, 3, 5, 5, 0, 2, 1, 0, 3, 7, 7, 1, 7, 4, 5, 7, 9, 8, 9, 1, 2, 8, 3, 2, 6, 6, 0, 8, 3, 8, 3, 4, 6, 0, 8, 8, 3, 2, 9, 3, 2, 0, 8, 5, 9, 0, 1, 1, 1, 9, 5, 1, 3, 3, 4, 0, 8, 4, 1, 3, 8, 8, 0, 7, 5, 0, 6, 7, 3, 3, 2, 4, 2, 5, 5, 4, 4, 0, 9, 1, 1, 7, 3, 8, 7, 2, 2, 9, 3, 9, 9, 0, 1, 5, 1, 4, 8, 1, 2, 9, 3, 4, 0, 0, 7, 6, 9, 9, 5, 5, 7, 0, 9, 3, 3, 6, 9, 8, 4, 2, 6, 4, 9, 2, 3, 2, 7, 4, 0, 4, 8, 1, 8, 7, 4, 4, 5, 2, 2, 9, 1, 9, 4, 9, 1, 6, 2, 8, 8, 7, 7, 7, 7, 2, 6, 0, 5, 5, 8, 5, 6, 0, 2, 4, 9, 2, 4, 1, 1, 9, 3, 1, 2, 2, 2, 3, 7, 5, 7, 4, 4, 4, 1, 2, 3, 5, 4, 2, 9, 1, 5, 9, 4, 6, 2, 4, 0, 1, 7, 7, 2, 4, 7, 7, 3, 0, 4, 3, 2, 7, 8, 7, 2, 8, 0, 8, 7, 4, 4, 2, 7, 0, 9, 9, 3, 1, 5, 9, 3, 1, 0, 3, 3, 5, 9, 7, 9, 8, 3, 5, 9, 3, 7, 9, 3, 6, 6, 0, 5, 7, 7, 2, 3, 5, 3, 1, 1, 9, 4, 3, 9, 5, 5, 7, 2, 4, 9, 0, 2, 1, 9, 7, 1, 5, 0, 9, 5, 0, 3, 5, 0, 3, 3, 7, 4, 2, 6, 8, 5, 9, 2, 1, 0, 5, 5, 8, 5, 3, 7, 4, 4, 0, 9, 0, 0, 0, 9, 1, 4, 3, 1, 5, 3, 8, 5, 1, 1, 2, 9, 4, 0, 5, 2, 8, 0, 2, 9, 8, 4, 4, 8, 3, 8, 0, 4, 0, 0, 4, 8, 5, 4, 9, 0, 9, 5, 8, 0, 9, 1, 4, 7, 2, 1, 4, 0, 0, 6, 5, 0, 4, 8, 5, 5, 2, 0, 3, 8, 3, 6, 1, 9, 2, 9, 7, 2, 6, 2, 8, 3, 4, 8, 5, 6, 8, 3, 3, 1, 4, 4, 0, 4, 9, 0, 4, 1, 9, 9, 8, 1, 8, 8, 3, 3, 3, 8, 5, 9, 2, 6, 8, 7, 0, 3, 0, 0, 0, 5, 7, 5, 0, 7, 9, 1, 2, 4, 8, 9, 3, 5, 2, 0, 4, 4, 7, 8, 9, 1, 8, 2, 5, 5, 3, 1, 1, 8, 8, 3, 0, 7, 0, 1, 8, 3, 0, 4, 9, 8, 9, 8, 8, 4, 9, 1, 8, 4, 2, 7, 7, 0, 5, 1, 1, 0, 0, 4, 3, 0, 2, 3, 5, 1, 4, 3, 3, 4, 4, 5, 0, 9, 8, 3, 4, 1, 0, 2, 1, 4, 4, 4, 8, 4, 9, 0, 5, 9, 5, 0, 6, 0, 5, 0, 4, 9, 8, 3, 6, 1, 9, 2, 1, 0, 4, 5, 4, 1, 2, 8, 5, 9, 4, 5, 3, 4, 6, 3, 0, 6, 8, 9, 0, 5, 0, 2, 6, 9, 3, 2, 2, 8, 5, 9, 2, 3, 1, 0, 3, 2, 2, 7, 4, 1, 2, 6, 4, 0, 2, 8, 5, 0, 8, 5, 2, 7, 8, 1, 5, 9, 8, 0, 9, 0, 9, 3, 9, 5, 9, 9, 6, 0, 7, 1, 5, 5, 9, 5, 4, 4, 2, 4, 5, 9, 7, 4, 2, 2, 9, 9, 4, 2, 1, 3, 7, 1, 8, 7, 9, 1, 8, 9, 3, 7, 7, 7, 1, 7, 4, 4, 2, 2, 4, 5, 2, 8, 9, 0, 8, 0, 0, 7, 7, 5, 0, 1, 9, 6, 0, 4, 9, 2, 6, 6, 9, 1, 0, 5, 8, 7, 2, 8, 2, 3, 6, 1, 7, 4, 8, 7, 4, 1, 7, 8, 6, 4, 2, 4, 4, 1, 8, 6, 7, 2, 9, 4, 5, 0, 3, 3, 8, 8, 2, 0, 7, 2, 4, 0, 4, 1, 0, 8, 1, 7, 5, 2, 6, 3, 1, 2, 7, 0, 0, 0, 6, 2, 7, 2, 8, 3, 2, 3, 0, 9, 7, 3, 5, 4, 9, 2, 2, 5, 0, 0, 8, 4, 0, 4, 4, 0, 4, 1, 6, 4, 3, 7, 1, 0, 6, 4, 1, 1, 5, 4, 6, 8, 3, 4, 1, 7, 4, 9, 8, 8, 4, 5, 5, 6, 7, 3, 9, 1, 0, 5, 3, 7, 6, 1, 1, 8, 0, 2, 0, 5, 9, 6, 3, 8, 1, 0, 4, 2, 2, 2, 8, 3, 4, 2, 1, 9, 1, 7, 9, 5, 7, 6, 1, 5, 8, 8, 2, 2, 4, 6, 3, 1, 6, 4, 0, 3, 9, 8, 4, 0, 8, 4, 3, 9, 7, 1, 1, 7, 5, 1, 9, 2, 4, 2, 3, 8, 6, 7, 1, 3, 0, 7, 3, 5, 8, 1, 4, 2, 3, 4, 8, 8, 8, 4, 8, 1, 8, 9, 3, 0, 0, 0, 2, 9, 7, 3, 9, 0, 1, 3, 5, 9, 0, 0, 5, 0, 5, 8, 7, 4, 6, 2, 8, 0, 0, 9, 3, 6, 5, 8, 1, 1, 2, 0, 0, 0, 8, 4, 2, 3, 3, 9, 5, 4, 3, 3, 1, 8, 1, 5, 2, 0, 0, 7, 9, 0, 2, 7, 1, 7, 4, 1, 6, 2, 2, 2, 7, 0, 4, 9, 3, 2, 5, 2, 8, 6, 2, 2, 7, 4, 2, 1, 1, 0, 3, 5, 5, 2, 6, 4, 1, 8, 8, 4, 4, 3, 4, 2, 9, 2, 3, 9, 6, 2, 3, 8, 4, 5, 4, 9, 8, 1, 6, 4, 6, 4, 9, 4, 3, 5, 1, 2, 6, 0, 1, 1, 0, 2, 6, 9, 9, 0, 1, 2, 4, 0, 7, 2, 1, 1, 7, 7, 8, 7, 6, 5, 3, 7, 2, 0, 9, 2, 1, 6, 2, 2, 5, 8, 5, 2, 9, 8, 2, 0, 9, 0, 8, 1, 0, 8, 2, 8, 2, 0, 6, 3, 8, 7, 8, 2, 2, 0, 6, 0, 4, 5, 3, 4, 1, 1, 9, 9, 0, 4, 2, 1, 4, 2, 7, 5, 1, 8, 3, 3, 7, 9, 8, 7, 2, 7, 9, 7, 2, 2, 2, 6, 3, 3, 9, 1, 1, 4, 8, 0, 9, 7, 5, 2, 8, 8, 3, 6, 3, 0, 8, 2, 2, 5, 9, 2, 4, 8, 3, 2, 8, 3, 3, 1, 1, 3, 0, 1, 8, 2, 1, 5, 8, 1, 5, 8, 0, 7, 8, 7, 5, 9, 9, 5, 3, 0, 9, 8, 4, 5, 1, 0, 2, 6, 4, 3, 7, 7, 9, 9, 2, 5, 8, 5, 8, 5, 3, 0, 9, 7, 2, 0, 6, 8, 3, 0, 7, 4, 7, 6, 8, 4, 7, 0, 0, 4, 0, 2, 7, 8, 1, 3, 8, 1, 7, 3, 6, 1, 1, 6, 6, 9, 8, 2, 8, 2, 7, 7, 1, 3, 0, 3, 0, 7, 8, 7, 6, 5, 2, 6, 7, 5, 5, 8, 9, 7, 3, 2, 4, 8, 3, 9, 5, 7, 6, 2, 2, 7, 3, 8, 5, 1, 8, 9, 2, 2, 1, 2, 2, 7, 4, 0, 4, 4, 8, 9, 7, 9, 2, 2, 8, 4, 6, 0, 6, 3, 4, 1, 5, 2, 7, 5, 0, 7, 6, 2, 3, 5, 1, 1, 0, 7, 3, 8, 8, 7, 5, 9, 9, 5, 5, 4, 0, 7, 1, 4, 6, 0, 9, 9, 6, 0, 8, 0, 5, 7, 8, 0, 2, 7, 6, 6, 4, 8, 1, 0, 4, 8, 0, 7, 5, 8, 7, 7, 5, 5, 0, 7, 6, 0, 2, 0, 3, 4, 2, 0, 2, 9, 4, 5, 4, 4, 1, 2, 5, 9, 0, 5, 0, 2, 5, 0, 4, 2, 0, 2, 7, 2, 7, 2, 3, 4, 7, 1, 4, 4, 4, 2, 4, 3, 9, 9, 2, 8, 0, 4, 0, 0, 1, 9, 3, 9, 6, 8, 2, 9, 4, 7, 9, 1, 5, 8, 1, 0, 0, 2, 4, 8, 0, 3, 3, 0, 0, 0, 3, 3, 1, 6, 8, 4, 9, 3, 0, 0, 5, 8, 8, 8, 6, 1, 0, 8, 7, 8, 5, 8, 7, 0, 7, 2, 7, 1, 5, 5, 8, 3, 3, 8, 5, 9, 9, 4, 0, 4, 7, 1, 8, 8, 8, 7, 2, 0, 9, 7, 9, 6, 9, 2, 1, 4, 7, 2, 5, 4, 4, 2, 9, 0, 7, 1, 9, 7, 2, 5, 3, 8, 4, 9, 3, 9, 5, 7, 5, 1, 3, 3, 6, 0, 7, 5, 3, 5, 5, 8, 7, 7, 4, 6, 5, 5, 3, 4, 8, 3, 0, 9, 2, 3, 2, 2, 7, 4, 0, 9, 1, 4, 8, 1, 4, 7, 8, 2, 6, 7, 2, 0, 2, 2, 3, 2, 3, 0, 5, 2, 3, 2, 8, 0, 0, 7, 4, 6, 4, 8, 3, 5, 1, 3, 9, 1, 2, 9, 0, 7, 4, 0, 0, 2, 9, 0, 3, 5, 3, 5, 1, 7, 9, 4, 0, 7, 4, 0, 2, 8, 1, 0, 9, 9, 9, 8, 2, 6, 9, 7, 7, 5, 8, 8, 7, 5, 0, 5, 5, 0, 8, 9, 7, 2, 1, 4, 7, 1, 3, 6, 3, 4, 0, 9, 4, 7, 7, 6, 5, 0, 8, 8, 2, 8, 5, 6, 0, 7, 3, 0, 0, 4, 5, 2, 0, 7, 7, 7, 1, 5, 2, 1, 8, 5, 2, 2, 8, 7, 7, 6, 7, 1, 0, 9, 5, 3, 9, 3, 5, 0, 7, 4, 2, 0, 1, 2, 5, 9, 3, 2, 8, 5, 7, 3, 1, 4, 0, 8, 1, 8, 5, 6, 9, 3, 3, 2, 2, 4, 2, 0, 0, 4, 2, 3, 4, 5, 9, 1, 1, 9, 4, 7, 0, 4, 1, 0, 0, 7, 7, 0, 7, 8, 0, 5, 6, 4, 4, 8, 9, 7, 2, 9, 5, 3, 9, 2, 4, 1, 9, 7, 8, 1, 6, 9, 3, 4, 7, 8, 6, 5, 6, 7, 9, 9, 7, 0, 4, 2, 3, 4, 0, 9, 5, 3, 9, 2, 8, 8, 0, 0, 4, 1, 9, 3, 3, 5, 1, 9, 5, 9, 2, 8, 5, 5, 9, 5, 4, 0, 7, 3, 5, 4, 2, 0, 9, 4, 8, 1, 9, 2, 6, 2, 4, 8, 8, 7, 7, 4, 9, 3, 9, 6, 8, 2, 6, 9, 0, 3, 2, 5, 7, 0, 4, 6, 4, 1, 3, 1, 0, 7, 8, 8, 9, 7, 0, 9, 7, 3, 4, 0, 4, 0, 3, 6, 8, 8, 8, 0, 2, 3, 2, 8, 2, 1, 2, 1, 1, 6, 3, 2, 2, 4, 0, 0, 4, 1, 0, 2, 7, 0, 6, 7, 9, 9, 2, 7, 0, 9, 9, 8, 4, 8, 3, 4, 0, 9, 4, 2, 4, 3, 8, 3, 0, 6, 9, 6, 2, 7, 3, 7, 8, 8, 2, 4, 8, 8, 0, 1, 5, 8, 9, 8, 7, 1, 0, 3, 3, 3, 0, 9, 3, 9, 9, 1, 5, 9, 4, 1, 7, 0, 1, 0, 5, 3, 8, 8, 4, 1, 7, 0, 5, 0, 4, 1, 7, 1, 7, 9, 4, 3, 9, 2, 2, 9, 3, 5, 8, 8, 4, 4, 7, 7, 4, 2, 0, 5, 5, 3, 6, 2, 5, 6, 8, 5, 6, 9, 1, 3, 1, 4, 5, 9, 3, 9, 0, 3, 5, 2, 1, 5, 8, 5, 6, 6, 9, 1, 9, 1, 7, 1, 8, 0, 3, 4, 0, 2, 0, 3, 3, 8, 8, 0, 3, 4, 8, 1, 1, 3, 3, 4, 2, 1, 8, 3, 4, 0, 2, 4, 2, 3, 9, 2, 3, 0, 4, 5, 7, 1, 6, 1, 6, 6, 3, 8, 5, 1, 6, 5, 4, 8, 1, 7, 1, 6, 4, 9, 4, 2, 1, 5, 4, 3, 5, 8, 7, 7, 7, 2, 7, 5, 4, 4, 2, 0, 4, 8, 9, 9, 5, 8, 0, 4, 4, 1, 3, 7, 5, 0, 0, 9, 8, 5, 3, 0, 7, 1, 9, 5, 8, 2, 0, 9, 9, 1, 2, 0, 0, 2, 4, 5, 1, 0, 2, 8, 3, 4, 8, 3, 4, 0, 0, 3, 6, 7, 4, 4, 1, 7, 3, 0, 7, 9, 9, 1, 5, 5, 9, 1, 4, 6, 1, 2, 8, 3, 5, 7, 8, 0, 4, 2, 7, 2, 7, 5, 6, 8, 7, 8, 2, 4, 9, 2, 5, 5, 9, 9, 4, 4, 2, 6, 6, 0, 8, 7, 6, 2, 7, 5, 2, 9, 0, 3, 4, 4, 8, 4, 0, 2, 9, 0, 5, 0, 6, 2, 8, 0, 0, 2, 0, 2, 5, 5, 8, 0, 7, 0, 8, 9, 0, 2, 1, 4, 5, 1, 0, 2, 9, 6, 4, 9, 9, 1, 4, 3, 1, 6, 8, 0, 3, 3, 2, 2, 0, 2, 3, 8, 5, 2, 3, 2, 0, 8, 5, 4, 0, 1, 0, 2, 2, 6, 7, 9, 6, 2, 4, 3, 0, 8, 5, 4, 4, 0, 3, 3, 5, 2, 5, 1, 5, 5, 1, 7, 5, 2, 1, 8, 8, 0, 9, 0, 0, 0, 3, 2, 1, 8, 3, 4, 2, 1, 2, 0, 3, 0, 8, 5, 1, 5, 0, 2, 0, 3, 9, 8, 2, 8, 1, 0, 2, 6, 2, 0, 3, 7, 5, 0, 6, 2, 0, 8, 2, 2, 1, 8, 6, 8, 2, 9, 2, 6, 8, 5, 2, 7, 3, 2, 2, 6, 0, 6, 8, 5, 2, 1, 5, 2, 8, 2, 9, 0, 6, 3, 6, 4, 2, 7, 7, 9, 0, 2, 9, 8, 0, 5, 8, 7, 7, 0, 7, 7, 0, 7, 7, 4, 9, 7, 4, 2, 2, 3, 8, 0, 1, 9, 8, 0, 2, 4, 8, 3, 8, 0, 7, 6, 4, 3, 8, 1, 3, 8, 7, 3, 0, 3, 2, 8, 8, 9, 1, 3, 2, 1, 4, 8, 0, 4, 2, 7, 3, 9, 4, 9, 0, 4, 6, 5, 7, 0, 8, 1, 7, 5, 4, 9, 5, 7, 3, 2, 0, 9, 8, 7, 0, 7, 7, 4, 7, 5, 8, 8, 2, 4, 6, 2, 3, 8, 9, 7, 1, 3, 4, 2, 9, 7, 1, 2, 2, 6, 6, 5, 5, 4, 5, 2, 8, 9, 4, 9, 9, 1, 4, 8, 1, 5, 5, 5, 6, 8, 1, 5, 5, 9, 7, 9, 8, 3, 1, 1, 2, 6, 6, 9, 3, 2, 4, 4, 8, 2, 5, 4, 9, 0, 2, 8, 4, 8, 6, 3, 6, 1, 4, 3, 3, 8, 4, 9, 9, 0, 7, 9, 5, 3, 1, 5, 2, 8, 4, 9, 0, 1, 6, 0, 5, 8, 1, 9, 3, 6, 8, 3, 8, 4, 2, 5, 6, 9, 0, 1, 2, 0, 7, 9, 0, 1, 3, 9, 5, 1, 4, 1, 1, 4, 8, 3, 9, 5, 4, 4, 3, 9, 7, 7, 2, 3, 9, 1, 9, 4, 2, 0, 7, 6, 8, 9, 9, 0, 0, 4, 9, 0, 4, 0, 2, 7, 9, 6, 1, 1, 2, 0, 8, 8, 7, 6, 2, 7, 5, 7, 6, 1, 8, 1, 4, 9, 8, 9, 0, 1, 0, 0, 0, 3, 0, 6, 4, 1, 9, 7, 1, 2, 2, 5, 3, 4, 1, 7, 2, 7, 0, 2, 8, 0, 1, 4, 9, 9, 3, 3, 4, 9, 3, 9, 8, 5, 3, 8, 4, 7, 1, 4, 1, 7, 6, 8, 3, 2, 4, 8, 1, 1, 5, 8, 6, 1, 0, 2, 9, 0, 9, 5, 3, 5, 0, 6, 5, 6, 8, 3, 8, 0, 2, 9, 9, 1, 5, 0, 2, 6, 5, 3, 0, 3, 0, 7, 4, 0, 4, 1, 9, 9, 1, 7, 5, 5, 5, 9, 4, 8, 2, 6, 0, 4, 6, 2, 1, 1, 4, 4, 8, 4, 9, 0, 5, 8, 1, 3, 8, 3, 2, 4, 8, 6, 0, 9, 3, 2, 9, 7, 2, 3, 2, 6, 8, 9, 6, 2, 4, 7, 7, 9, 7, 3, 6, 9, 2, 7, 3, 0, 2, 0, 9, 4, 3, 3, 1, 9, 5, 8, 2, 4, 5, 0, 0, 4, 5, 6, 3, 5, 3, 7, 7, 6, 0, 9, 5, 1, 4, 4, 5, 3, 0, 0, 1, 4, 0, 5, 4, 8, 5, 7, 3, 0, 8, 3, 5, 4, 4, 9, 8, 9, 9, 0, 1, 9, 5, 0, 1, 5, 4, 3, 3, 3, 4, 4, 3, 0, 7, 8, 0, 9, 0, 3, 0, 4, 2, 7, 4, 5, 7, 3, 7, 8, 4, 6, 2, 2, 3, 1, 0, 7, 5, 0, 6, 4, 1, 1, 4, 7, 2, 3, 5, 5, 0, 2, 4, 4, 8, 9, 9, 2, 0, 9, 8, 3, 5, 3, 1, 4, 5, 0, 1, 8, 5, 8, 4, 0, 7, 8, 9, 2, 4, 6, 4, 2, 2, 6, 7, 9, 1, 9, 7, 4, 5, 6, 3, 2, 4, 5, 6, 6, 5, 8, 0, 4, 4, 9, 4, 7, 8, 6, 0, 2, 7, 7, 5, 9, 5, 7, 3, 8, 7, 5, 9, 9, 8, 2, 1, 0, 8, 0, 2, 6, 7, 9, 2, 4, 5, 2, 3, 2, 1, 1, 9, 0, 5, 5, 4, 9, 8, 9, 6, 9, 4, 0, 0, 5, 7, 8, 4, 8, 8, 7, 4, 9, 4, 9, 6, 9, 7, 3, 9, 9, 3, 6, 0, 2, 8, 9, 9, 3, 0, 6, 4, 1, 0, 3, 8, 4, 8, 4, 4, 2, 3, 9, 7, 7, 8, 5, 2, 3, 2, 1, 8, 3, 8, 5, 4, 2, 3, 0, 8, 3, 3, 4, 9, 0, 9, 9, 0, 1, 8, 3, 0, 3, 8, 6, 8, 5, 1, 3, 0, 1, 9, 3, 5, 0, 6, 2, 6, 1, 5, 3, 2, 8, 5, 7, 8, 0, 1, 1, 0, 6, 2, 5, 9, 0, 7, 2, 3, 6, 4, 4, 3, 3, 9, 4, 7, 0, 8, 3, 5, 6, 4, 0, 1, 3, 9, 4, 2, 5, 0, 5, 1, 2, 5, 0, 0, 0, 0, 6, 9, 1, 3, 4, 2, 5, 5, 4, 6, 1, 4, 9, 7, 2, 4, 7, 5, 7, 1, 4, 8, 7, 9, 5, 7, 0, 2, 9, 2, 5, 0, 7, 6, 2, 5, 2, 9, 4, 3, 2, 5, 9, 2, 5, 7, 7, 3, 8, 4, 9, 6, 5, 3, 6, 7, 6, 9, 9, 1, 3, 6, 9, 3, 4, 2, 5, 3, 4, 9, 9, 1, 2, 2, 2, 2, 6, 8, 7, 9, 9, 4, 8, 8, 9, 0, 7, 0, 4, 3, 8, 6, 4, 4, 0, 1, 4, 0, 2, 1, 5, 4, 6, 6, 0, 3, 4, 5, 6, 8, 7, 6, 6, 3, 1, 8, 6, 8, 9, 9, 5, 5, 8, 2, 5, 4, 4, 2, 5, 4, 9, 2, 9, 1, 0, 3, 4, 6, 9, 8, 0, 4, 9, 1, 9, 4, 7, 3, 5, 4, 3, 4, 2, 1, 0, 2, 4, 3, 7, 8, 4, 5, 5, 9, 0, 4, 3, 4, 5, 5, 5, 7, 6, 1, 6, 3, 7, 0, 5, 7, 6, 8, 3, 5, 5, 8, 1, 9, 4, 0, 4, 2, 1, 6, 0, 1, 2, 5, 0, 8, 1, 1, 7, 8, 2, 5, 9, 0, 8, 3, 4, 4, 2, 7, 0, 7, 3, 3, 2, 3, 7, 1, 6, 2, 3, 4, 0, 0, 6, 4, 8, 7, 0, 3, 0, 4, 7, 3, 3, 6, 0, 2, 4, 4, 1, 8, 1, 9, 1, 2, 6, 4, 2, 5, 3, 3, 5, 3, 5, 8, 3, 9, 7, 3, 0, 6, 1, 0, 1, 0, 7, 7, 4, 8, 9, 6, 1, 5, 4, 9, 4, 7, 9, 9, 9, 0, 1, 0, 9, 9, 5, 1, 7, 2, 9, 3, 5, 6, 8, 1, 5, 3, 3, 8, 2, 7, 0, 8, 9, 8, 8, 4, 5, 6, 4, 5, 9, 0, 0, 5, 4, 7, 7, 4, 4, 7, 4, 5, 8, 3, 7, 2, 7, 3, 8, 8, 8, 7, 8, 6, 0, 5, 7, 9, 8, 5, 6, 0, 6, 2, 6, 2, 8, 9, 9, 1, 9, 5, 8, 4, 4, 8, 4, 8, 7, 2, 8, 3, 0, 7, 8, 8, 3, 9, 9, 5, 9, 2, 6, 9, 7, 5, 9, 4, 9, 9, 2, 3, 9, 5, 3, 5, 3, 1, 2, 9, 1, 2, 8, 5, 1, 7, 9, 6, 3, 3, 6, 9, 0, 4, 0, 0, 0, 2, 9, 7, 1, 9, 8, 5, 6, 8, 5, 9, 5, 2, 4, 2, 9, 2, 2, 5, 4, 2, 7, 1, 0, 0, 4, 4, 5, 6, 4, 6, 9, 5, 5, 1, 5, 2, 4, 4, 4, 4, 1, 9, 0, 7, 2, 7, 4, 2, 9, 7, 4, 2, 6, 1, 7, 1, 4, 7, 0, 1, 7, 3, 0, 3, 6, 6, 6, 0, 4, 1, 7, 9, 0, 2, 9, 2, 0, 7, 1, 9, 5, 2, 9, 8, 2, 4, 0, 3, 3, 2, 2, 8, 1, 0, 8, 1, 8, 1, 0, 1, 2, 7, 3, 7, 7, 3, 3, 9, 9, 0, 8, 2, 5, 8, 9, 3, 3, 5, 4, 1, 3, 9, 4, 3, 2, 6, 1, 8, 1, 4, 4, 0, 2, 1, 7, 0, 5, 4, 5, 3, 6, 2, 1, 6, 0, 7, 2, 6, 2, 3, 6, 4, 5, 2, 9, 6, 8, 0, 4, 4, 0, 1, 7, 5, 3, 3, 3, 2, 0, 3, 5, 2, 6, 2, 5, 1, 4, 2, 2, 1, 9, 3, 4, 4, 9, 5, 8, 0, 0, 3, 6, 0, 8, 1, 2, 3, 3, 1, 5, 5, 3, 2, 6, 7, 1, 3, 2, 3, 0, 1, 2, 2, 8, 6, 8, 8, 7, 0, 3, 1, 3, 8, 3, 4, 1, 2, 0, 3, 6, 7, 7, 8, 3, 0, 9, 5, 4, 0, 9, 9, 4, 3, 8, 9, 3, 8, 3, 7, 9, 0, 2, 5, 1, 0, 5, 0, 3, 9, 7, 9, 6, 0, 7, 1, 2, 0, 8, 2, 2, 2, 7, 8, 0, 2, 4, 6, 9, 7, 3, 2, 5, 4, 5, 1, 9, 5, 0, 5, 2, 4, 1, 7, 9, 0, 3, 3, 4, 9, 1, 0, 3, 9, 5, 6, 8, 2, 4, 1, 4, 0, 6, 7, 9, 0, 1, 1, 2, 3, 6, 9, 8, 1, 3, 7, 3, 9, 9, 5, 4, 2, 3, 6, 8, 8, 5, 5, 1, 8, 8, 5, 7, 9, 9, 3, 4, 4, 2, 7, 9, 4, 2, 7, 5, 4, 7, 6, 1, 4, 4, 2, 0, 9, 0, 0, 5, 1, 1, 7, 8, 3, 2, 6, 2, 0, 6, 4, 9, 5, 2, 4, 4, 4, 6, 1, 5, 2, 7, 8, 6, 7, 7, 0, 8, 4, 3, 6, 9, 1, 2, 1, 7, 4, 3, 4, 9, 9, 2, 6, 4, 3, 0, 5, 7, 5, 2, 7, 8, 9, 9, 2, 7, 8, 7, 7, 5, 8, 7, 6, 6, 9, 0, 1, 8, 7, 5, 2, 5, 3, 7, 6, 6, 5, 5, 6, 9, 9, 1, 9, 5, 9, 4, 4, 1, 9, 8, 3, 5, 1, 8, 6, 5, 0, 2, 3, 7, 1, 1, 1, 8, 7, 5, 4, 4, 2, 7, 0, 0, 5, 3, 4, 8, 6, 5, 2, 7, 3, 2, 3, 2, 7, 8, 0, 7, 0, 9, 5, 8, 0, 7, 3, 5, 0, 9, 7, 3, 0, 0, 5, 7, 8, 4, 3, 1, 9, 0, 2, 9, 1, 1, 4, 0, 4, 3, 6, 2, 4, 8, 6, 2, 9, 5, 0, 1, 8, 2, 4, 1, 2, 2, 9, 4, 3, 7, 9, 6, 3, 5, 6, 5, 9, 8, 5, 3, 0, 1, 2, 4, 2, 1, 9, 4, 4, 0, 5, 5, 4, 0, 2, 0, 1, 4, 9, 9, 7, 0, 1, 2, 0, 0, 4, 6, 2, 5, 9, 4, 8, 4, 6, 1, 5, 9, 2, 1, 8, 9, 3, 1, 7, 1, 1, 1, 9, 1, 3, 8, 9, 9, 1, 9, 6, 0, 5, 8, 5, 5, 9, 3, 8, 9, 4, 7, 8, 2, 9, 2, 0, 1, 5, 0, 7, 3, 0, 0, 9, 1, 1, 8, 2, 8, 9, 2, 0, 5, 2, 0, 0, 5, 1, 0, 8, 2, 3, 7, 2, 1, 9, 7, 4, 1, 3, 9, 2, 4, 0, 3, 7, 5, 1, 1, 9, 5, 3, 5, 4, 6, 4, 1, 5, 2, 1, 6, 2, 5, 9, 9, 4, 0, 4, 1, 7, 9, 0, 7, 7, 3, 3, 8, 4, 1, 8, 2, 7, 6, 4, 8, 9, 2, 9, 3, 2, 6, 1, 1, 6, 4, 1, 4, 9, 6, 5, 9, 1, 5, 0, 9, 3, 2, 1, 7, 2, 9, 8, 8, 9, 5, 5, 3, 8, 2, 0, 3, 6, 1, 1, 9, 0, 9, 7, 5, 3, 2, 9, 5, 5, 4, 2, 9, 9, 3, 0, 6, 4, 1, 7, 4, 9, 2, 8, 5, 8, 6, 0, 1, 3, 2, 2, 3, 6, 6, 0, 2, 8, 3, 2, 8, 6, 1, 8, 4, 5, 4, 2, 3, 9, 2, 2, 4, 4, 5, 2, 2, 7, 3, 7, 3, 3, 6, 9, 4, 8, 5, 6, 0, 3, 6, 7, 2, 5, 3, 1, 1, 9, 7, 5, 2, 2, 1, 6, 4, 5, 9, 2, 5, 5, 3, 3, 0, 9, 2, 4, 6, 3, 2, 4, 9, 2, 3, 0, 4, 2, 0, 4, 1, 3, 9, 2, 4, 2, 2, 3, 2, 3, 0, 8, 3, 5, 1, 2, 8, 8, 2, 1, 2, 1, 1, 9, 6, 5, 9, 6, 8, 0, 3, 2, 3, 6, 3, 7, 5, 6, 1, 1, 2, 0, 5, 5, 0, 1, 0, 5, 2, 8, 9, 7, 9, 1, 1, 3, 3, 5, 6, 7, 9, 9, 4, 9, 3, 0, 6, 2, 8, 5, 2, 5, 9, 8, 3, 8, 1, 3, 1, 4, 5, 2, 5, 4, 4, 9, 2, 7, 1, 4, 8, 3, 7, 7, 6, 7, 9, 4, 7, 7, 0, 1, 2, 1, 2, 8, 2, 4, 7, 4, 7, 1, 8, 7, 5, 1, 3, 1, 0, 3, 4, 5, 3, 8, 6, 3, 4, 9, 3, 1, 5, 3, 0, 7, 0, 6, 4, 5, 1, 2, 6, 2, 8, 3, 9, 8, 6, 7, 2, 4, 2, 5, 1, 9, 1, 1, 8, 7, 1, 8, 1, 2, 0, 9, 2, 4, 3, 4, 6, 1, 3, 5, 2, 9, 5, 5, 4, 7, 5, 5, 2, 4, 8, 0, 7, 0, 8, 4, 2, 1, 9, 7, 7, 6, 8, 0, 3, 0, 9, 8, 5, 6, 2, 8, 1, 5, 5, 7, 0, 1, 6, 1, 3, 4, 6, 2, 2, 1, 7, 6, 2, 2, 6, 1, 8, 2, 4, 6, 3, 0, 8, 8, 4, 4, 2, 0, 7, 0, 8, 9, 1, 4, 4, 7, 6, 8, 1, 8, 2, 4, 4, 7, 8, 7, 9, 9, 3, 9, 4, 4, 0, 6, 1, 4, 8, 4, 2, 7, 0, 2, 2, 9, 1, 8, 0, 6, 2, 2, 0, 3, 6, 6, 1, 3, 6, 3, 4, 1, 7, 8, 1, 0, 7, 6, 5, 0, 8, 2, 6, 5, 8, 7, 8, 4, 5, 9, 5, 5, 1, 2, 4, 7, 2, 9, 7, 8, 6, 7, 4, 6, 3, 8, 8, 4, 5, 1, 8, 3, 4, 2, 2, 9, 8, 9, 0, 2, 7, 9, 4, 5, 9, 8, 4, 3, 9, 5, 9, 3, 0, 8, 6, 3, 6, 3, 5, 8, 0, 0, 3, 8, 2, 9, 0, 0, 7, 6, 0, 8, 7, 4, 8, 8, 2, 0, 3, 6, 7, 1, 4, 7, 4, 0, 9, 1, 6, 5, 2, 0, 9, 9, 6, 3, 8, 2, 1, 1, 8, 8, 3, 5, 7, 5, 6, 9, 4, 3, 9, 3, 8, 9, 0, 2, 0, 4, 5, 7, 0, 4, 3, 9, 7, 7, 2, 2, 5, 8, 3, 1, 3, 5, 4, 9, 4, 3, 9, 9, 2, 0, 8, 0, 9, 1, 9, 9, 0, 7, 1, 4, 5, 0, 3, 8, 7, 4, 5, 5, 9, 3, 2, 0, 0, 9, 0, 5, 0, 1, 3, 7, 9, 1, 5, 9, 0, 0, 9, 7, 2, 9, 2, 1, 2, 7, 5, 1, 0, 7, 3, 4, 7, 6, 4, 6, 8, 5, 7, 9, 5, 7, 3, 3, 3, 9, 3, 6, 1, 5, 6, 9, 7, 4, 0, 6, 5, 8, 0, 7, 7, 3, 2, 0, 4, 8, 2, 0, 6, 9, 8, 9, 6, 5, 0, 6, 0, 2, 6, 3, 1, 8, 7, 4, 1, 9, 1, 2, 8, 5, 2, 3, 0, 0, 2, 6, 0, 7, 2, 1, 8, 2, 8, 7, 9, 2, 1, 2, 5, 7, 7, 3, 2, 5, 7, 3, 6, 7, 3, 2, 6, 9, 6, 7, 3, 9, 1, 2, 1, 9, 7, 2, 3, 3, 8, 1, 8, 3, 5, 0, 5, 3, 8, 5, 7, 6, 9, 0, 6, 8, 4, 2, 3, 3, 6, 3, 7, 8, 7, 1, 3, 9, 8, 9, 5, 5, 2, 4, 4, 5, 0, 8, 6, 3, 6, 0, 8, 8, 9, 6, 9, 1, 5, 1, 2, 1, 3, 2, 6, 2, 4, 5, 7, 5, 9, 2, 0, 5, 7, 0, 5, 6, 5, 0, 0, 4, 0, 7, 1, 5, 4, 9, 8, 1, 7, 6, 4, 4, 0, 7, 1, 8, 5, 7, 8, 5, 5, 1, 8, 5, 7, 7, 7, 6, 5, 2, 2, 1, 2, 4, 2, 1, 6, 0, 9, 1, 8, 2, 4, 7, 4, 9, 5, 9, 4, 3, 9, 5, 6, 2, 2, 7, 3, 9, 3, 0, 5, 9, 0, 9, 6, 0, 4, 5, 9, 1, 2, 5, 4, 0, 2, 3, 1, 1, 1, 7, 6, 2, 2, 5, 9, 8, 7, 9, 3, 4, 7, 9, 2, 0, 1, 1, 1, 4, 8, 0, 8, 0, 9, 5, 6, 7, 0, 8, 2, 4, 4, 2, 2, 2, 5, 7, 2, 9, 9, 2, 2, 2, 0, 7, 4, 5, 2, 3, 3, 1, 9, 8, 1, 8, 2, 2, 3, 9, 1, 9, 7, 2, 9, 0, 9, 3, 0, 4, 2, 0, 4, 6, 0, 9, 2, 1, 1, 0, 9, 6, 7, 0, 4, 1, 1, 7, 0, 0, 1, 9, 2, 7, 3, 5, 4, 1, 2, 6, 4, 0, 4, 0, 2, 3, 5, 9, 5, 8, 9, 3, 1, 7, 8, 9, 4, 1, 1, 9, 0, 7, 0, 0, 9, 6, 0, 2, 9, 3, 8, 5, 5, 9, 3, 3, 5, 7, 1, 3, 3, 3, 5, 6, 0, 4, 1, 1, 9, 1, 4, 0, 6, 2, 2, 6, 2, 0, 3, 5, 0, 3, 0, 5, 1, 1, 8, 2, 5, 3, 5, 1, 2, 2, 3, 1, 2, 7, 9, 6, 3, 8, 5, 2, 6, 9, 1, 5, 7, 7, 6, 2, 2, 7, 5, 4, 1, 5, 7, 7, 8, 4, 8, 3, 7, 4, 0, 2, 9, 9, 0, 0, 7, 3, 1, 0, 8, 2, 4, 4, 4, 7, 1, 0, 2, 0, 3, 4, 0, 2, 9, 8, 0, 0, 8, 3, 9, 2, 1, 5, 2, 5, 0, 8, 4, 2, 5, 9, 3, 0, 2, 7, 8, 5, 9, 5, 0, 0, 6, 9, 7, 2, 9, 4, 2, 2, 4, 0, 1, 4, 3, 9, 4, 0, 3, 4, 2, 6, 9, 4, 7, 2, 5, 4, 3, 4, 5, 7, 0, 2, 1, 1, 8, 7, 3, 2, 0, 5, 2, 3, 8, 8, 8, 9, 0, 6, 9, 2, 0, 3, 6, 4, 2, 8, 8, 5, 9, 2, 7, 1, 9, 0, 3, 3, 4, 2, 3, 9, 9, 5, 4, 0, 4, 2, 4, 6, 4, 5, 3, 4, 9, 8, 5, 8, 0, 4, 1, 4, 8, 9, 2, 2, 2, 3, 5, 6, 3, 5, 2, 5, 3, 9, 1, 2, 9, 8, 9, 3, 8, 8, 5, 5, 8, 4, 4, 0, 8, 3, 0, 4, 9, 6, 1, 0, 5, 1, 4, 0, 9, 2, 6, 3, 6, 7, 4, 6, 4, 3, 8, 5, 1, 8, 3, 4, 4, 5, 6, 0, 7, 8, 7, 4, 2, 2, 2, 9, 3, 5, 0, 9, 9, 0, 1, 3, 7, 1, 9, 6, 5, 2, 6, 9, 5, 7, 9, 4, 2, 8, 3, 1, 7, 8, 8, 6, 8, 0, 5, 5, 7, 1, 9, 6, 2, 1, 5, 1, 9, 6, 1, 6, 3, 2, 5, 3, 9, 6, 5, 4, 0, 6, 9, 9, 4, 2, 3, 8, 5, 8, 3, 6, 4, 1, 4, 9, 5, 8, 9, 7, 3, 4, 9, 5, 9, 1, 1, 1, 8, 4, 1, 4, 6, 9, 9, 8, 9, 7, 4, 4, 1, 9, 9, 1, 9, 2, 2, 3, 7, 3, 1, 3, 6, 8, 3, 4, 3, 3, 8, 3, 7, 1, 0, 3, 8, 4, 7, 9, 8, 0, 3, 0, 4, 5, 7, 0, 7, 2, 5, 0, 2, 6, 3, 3, 0, 0, 4, 4, 4, 4, 6, 9, 9, 6, 7, 4, 0, 2, 2, 1, 9, 5, 9, 9, 0, 5, 8, 6, 7, 3, 9, 5, 2, 8, 9, 5, 8, 0, 0, 3, 0, 6, 3, 7, 8, 0, 1, 2, 2, 6, 1, 1, 2, 2, 2, 5, 4, 3, 9, 3, 4, 2, 3, 7, 2, 9, 2, 1, 4, 7, 5, 5, 9, 2, 0, 9, 7, 9, 9, 4, 1, 8, 3, 3, 8, 0, 8, 9, 0, 7, 7, 9, 4, 4, 0, 3, 7, 2, 1, 5, 2, 0, 5, 8, 6, 7, 0, 1, 0, 5, 6, 2, 1, 4, 1, 8, 7, 9, 9, 7, 3, 6, 2, 4, 7, 6, 3, 9, 6, 3, 9, 5, 1, 0, 9, 2, 7, 4, 3, 5, 7, 2, 7, 2, 8, 7, 5, 4, 5, 9, 4, 3, 5, 0, 2, 5, 5, 3, 1, 9, 3, 7, 1, 0, 3, 4, 4, 2, 5, 9, 2, 1, 1, 7, 7, 9, 0, 1, 6, 8, 5, 2, 5, 3, 7, 8, 7, 7, 0, 8, 5, 0, 0, 5, 5, 6, 9, 7, 9, 7, 1, 0, 0, 8, 0, 4, 0, 6, 4, 5, 5, 0, 5, 3, 0, 4, 5, 6, 7, 1, 8, 7, 1, 3, 2, 0, 4, 7, 3, 7, 4, 6, 0, 3, 9, 4, 0, 3, 0, 8, 7, 3, 3, 0, 5, 6, 1, 5, 0, 9, 9, 1, 3, 0, 6, 1, 2, 6, 5, 7, 2, 4, 0, 9, 2, 6, 8, 2, 8, 6, 7, 7, 3, 3, 9, 5, 7, 6, 0, 9, 4, 5, 0, 7, 2, 9, 5, 5, 8, 7, 4, 9, 5, 6, 3, 6, 3, 0, 4, 7, 6, 4, 2, 5, 4, 1, 5, 7, 9, 7, 3, 9, 8, 8, 5, 1, 9, 6, 1, 0, 4, 8, 0, 7, 0, 9, 8, 8, 4, 3, 4, 1, 7, 7, 1, 1, 6, 7, 0, 3, 2, 8, 7, 8, 9, 9, 1, 1, 3, 8, 7, 9, 9, 1, 0, 2, 3, 4, 4, 4, 7, 1, 4, 0, 1, 5, 3, 4, 9, 2, 4, 2, 4, 0, 7, 9, 4, 7, 1, 4, 0, 8, 3, 3, 5, 2, 0, 8, 3, 0, 2, 0, 1, 8, 4, 0, 2, 9, 5, 4, 4, 5, 2, 1, 6, 4, 4, 5, 8, 0, 7, 3, 0, 6, 7, 4, 2, 3, 4, 4, 2, 6, 3, 6, 5, 1, 7, 5, 2, 5, 7, 9, 9, 9, 9, 2, 0, 9, 2, 0, 5, 5, 5, 0, 5, 0, 6, 0, 0, 2, 9, 9, 2, 4, 5, 4, 0, 1, 0, 8, 9, 5, 7, 0, 0, 2, 4, 1, 0, 8, 1, 8, 2, 0, 6, 9, 8, 5, 1, 2, 4, 0, 9, 0, 8, 8, 0, 7, 3, 6, 9, 8, 9, 9, 4, 9, 6, 3, 3, 2, 9, 0, 8, 0, 4, 0, 3, 0, 0, 0, 3, 3, 5, 9, 4, 7, 1, 5, 4, 1, 6, 1, 7, 9, 4, 3, 4, 5, 2, 9, 4, 9, 8, 8, 7, 4, 2, 3, 9, 3, 6, 7, 0, 2, 7, 0, 2, 1, 0, 5, 7, 0, 5, 9, 2, 0, 2, 8, 5, 8, 1, 9, 2, 7, 0, 7, 3, 6, 2, 5, 0, 8, 8, 8, 7, 4, 0, 5, 1, 5, 9, 6, 0, 9, 5, 8, 5, 7, 3, 9, 8, 3, 4, 6, 5, 7, 5, 1, 1, 5, 4, 1, 4, 5, 8, 4, 9, 0, 3, 3, 4, 0, 3, 4, 1, 1, 4, 7, 3, 9, 0, 2, 8, 8, 8, 6, 7, 7, 1, 2, 6, 6, 1, 6, 0, 2, 5, 8, 2, 4, 6, 3, 1, 5, 5, 4, 4, 0, 5, 4, 7, 0, 3, 4, 5, 5, 7, 5, 7, 0, 1, 1, 9, 7, 5, 0, 1, 9, 6, 3, 6, 5, 4, 0, 4, 5, 7, 2, 2, 2, 0, 5, 6, 2, 3, 7, 8, 6, 2, 2, 1, 1, 7, 5, 4, 5, 3, 4, 8, 5, 8, 8, 6, 1, 2, 3, 7, 2, 9, 0, 4, 5, 2, 3, 4, 9, 5, 5, 9, 4, 6, 4, 1, 1, 8, 9, 4, 4, 2, 3, 3, 0, 7, 1, 8, 8, 5, 0, 4, 7, 7, 1, 0, 1, 4, 1, 9, 0, 4, 1, 1, 0, 9, 3, 7, 3, 9, 0, 1, 8, 9, 0, 6, 6, 0, 9, 1, 0, 1, 2, 7, 8, 0, 5, 6, 8, 2, 5, 5, 1, 5, 9, 1, 8, 5, 3, 1, 2, 6, 3, 7, 3, 5, 4, 8, 0, 7, 1, 2, 3, 9, 8, 3, 8, 7, 7, 9, 7, 0, 9, 4, 0, 9, 6, 1, 9, 8, 6, 3, 7, 6, 9, 5, 4, 7, 1, 2, 1, 2, 3, 9, 2, 0, 5, 0, 0, 5, 5, 4, 0, 9, 9, 1, 3, 7, 7, 7, 4, 5, 1, 4, 0, 6, 3, 8, 9, 8, 4, 1, 0, 8, 3, 9, 8, 8, 7, 8, 3, 0, 0, 7, 4, 8, 6, 9, 9, 4, 7, 7, 2, 2, 1, 5, 3, 2, 0, 5, 5, 0, 8, 2, 7, 8, 9, 4, 2, 1, 9, 4, 4, 4, 9, 4, 3, 6, 0, 7, 7, 8, 0, 9, 1, 2, 6, 2, 9, 7, 1, 9, 9, 3, 3, 1, 2, 3, 5, 6, 3, 9, 4, 1, 4, 4, 2, 7, 5, 4, 6, 7, 9, 8, 1, 8, 1, 2, 2, 7, 5, 6, 1, 2, 6, 0, 1, 2, 0, 7, 6, 8, 8, 2, 8, 2, 5, 0, 0, 1, 7, 9, 7, 4, 5, 4, 0, 2, 8, 7, 1, 0, 8, 7, 8, 8, 4, 8, 2, 8, 0, 1, 5, 3, 8, 1, 7, 2, 9, 3, 7, 9, 5, 1, 8, 3, 0, 9, 3, 0, 2, 4, 2, 7, 6, 0, 9, 8, 8, 1, 5, 7, 7, 1, 9, 5, 4, 0, 0, 7, 8, 7, 3, 7, 0, 6, 5, 5, 2, 6, 7, 2, 6, 3, 2, 0, 4, 7, 8, 6, 6, 0, 1, 5, 3, 8, 3, 9, 7, 1, 7, 1, 0, 4, 8, 5, 0, 0, 6, 4, 1, 1, 2, 9, 0, 0, 3, 1, 3, 2, 7, 0, 1, 8, 5, 7, 0, 0, 5, 0, 4, 6, 2, 2, 5, 4, 1, 8, 2, 1, 5, 3, 8, 8, 9, 9, 0, 1, 8, 1, 4, 9, 6, 3, 1, 1, 4, 7, 8, 3, 4, 9, 0, 2, 8, 3, 5, 4, 9, 4, 9, 5, 6, 3, 0, 2, 5, 7, 3, 7, 4, 4, 0, 9, 3, 0, 5, 4, 1, 2, 1, 8, 1, 9, 4, 8, 9, 9, 3, 0, 7, 0, 0, 6, 1, 0, 6, 6, 4, 2, 2, 9, 0, 6, 0, 4, 0, 0, 1, 3, 8, 2, 5, 7, 9, 6, 6, 3, 7, 9, 1, 6, 7, 7, 5, 8, 0, 9, 1, 0, 1, 4, 9, 1, 6, 5, 3, 3, 0, 7, 1, 2, 7, 9, 3, 7, 4, 4, 4, 6, 7, 2, 7, 3, 1, 9, 8, 8, 7, 0, 1, 4, 0, 9, 7, 9, 9, 1, 2, 0, 4, 7, 4, 3, 3, 1, 7, 5, 7, 6, 9, 0, 0, 3, 1, 4, 7, 9, 3, 6, 7, 8, 4, 7, 4, 0, 8, 3, 0, 1, 7, 9, 6, 9, 1, 6, 6, 7, 1, 0, 6, 3, 9, 3, 1, 8, 4, 5, 9, 5, 8, 1, 0, 9, 0, 6, 4, 1, 1, 4, 7, 3, 0, 7, 9, 8, 9, 5, 4, 0, 4, 7, 4, 3, 8, 3, 8, 1, 1, 2, 4, 8, 1, 0, 8, 1, 8, 9, 3, 2, 7, 0, 2, 4, 9, 6, 2, 4, 9, 9, 6, 9, 9, 6, 7, 3, 4, 3, 3, 9, 2, 7, 7, 8, 1, 1, 6, 6, 5, 7, 9, 4, 7, 4, 7, 0, 0, 6, 9, 9, 7, 7, 5, 0, 1, 2, 3, 4, 6, 2, 0, 9, 8, 7, 8, 4, 4, 8, 9, 9, 1, 6, 7, 9, 9, 0, 1, 5, 1, 1, 3, 6, 9, 9, 8, 3, 3, 8, 5, 2, 4, 3, 6, 8, 0, 9, 0, 6, 9, 0, 1, 6, 8, 1, 8, 2, 1, 8, 1, 7, 1, 9, 1, 8, 3, 9, 4, 1, 0, 8, 4, 4, 6, 8, 2, 2, 5, 5, 0, 2, 0, 9, 8, 0, 1, 0, 0, 4, 8, 3, 4, 7, 7, 5, 9, 2, 5, 4, 6, 9, 9, 4, 8, 7, 2, 9, 1, 4, 0, 2, 8, 0, 1, 9, 2, 1, 6, 7, 0, 8, 7, 0, 4, 6, 4, 1, 1, 9, 8, 8, 9, 1, 2, 6, 6, 5, 2, 5, 0, 8, 3, 0, 1, 8, 6, 1, 5, 0, 3, 3, 1, 9, 2, 8, 7, 8, 2, 3, 6, 2, 5, 6, 9, 0, 7, 1, 1, 7, 9, 0, 1, 6, 7, 5, 4, 6, 3, 3, 2, 1, 0, 0, 9, 9, 8, 2, 9, 0, 2, 5, 4, 7, 2, 6, 5, 2, 0, 9, 3, 9, 0, 6, 3, 5, 2, 4, 3, 4, 6, 9, 8, 8, 0, 2, 0, 0, 3, 9, 2, 2, 8, 1, 9, 2, 4, 9, 0, 0, 2, 0, 6, 7, 0, 5, 0, 6, 3, 1, 3, 0, 9, 5, 4, 3, 7, 0, 2, 2, 9, 0, 7, 0, 5, 6, 8, 2, 1, 0, 3, 6, 5, 9, 3, 5, 0, 2, 0, 7, 4, 6, 8, 3, 3, 8, 6, 3, 8, 9, 4, 0, 8, 8, 4, 8, 2, 7, 7, 0, 3, 6, 8, 1, 5, 9, 2, 2, 8, 9, 4, 1, 0, 5, 5, 4, 2, 8, 2, 4, 0, 7, 4, 5, 3, 7, 4, 5, 8, 8, 3, 9, 5, 0, 6, 4, 6, 3, 0, 4, 9, 2, 5, 6, 5, 0, 3, 1, 7, 8, 6, 2, 7, 3, 3, 8, 0, 0, 9, 2, 8, 5, 4, 9, 6, 3, 4, 2, 0, 1, 1, 9, 3, 8, 2, 1, 9, 5, 8, 4, 8, 2, 3, 5, 6, 6, 4, 9, 2, 6, 2, 9, 8, 0, 5, 9, 4, 4, 5, 2, 1, 0, 7, 2, 4, 2, 7, 4, 2, 0, 0, 1, 5, 4, 0, 1, 9, 9, 5, 6, 5, 2, 9, 6, 6, 3, 5, 4, 8, 9, 0, 9, 5, 5, 5, 7, 9, 3, 3, 6, 4, 3, 9, 3, 1, 0, 2, 5, 2, 8, 7, 9, 7, 7, 7, 9, 2, 0, 0, 6, 7, 6, 1, 8, 0, 3, 8, 5, 0, 5, 6, 9, 1, 1, 2, 0, 8, 9, 7, 7, 5, 8, 6, 1, 4, 0, 1, 8, 4, 3, 4, 7, 9, 3, 7, 5, 5, 0, 9, 1, 2, 1, 2, 7, 8, 0, 9, 3, 4, 1, 1, 7, 8, 1, 6, 5, 9, 0, 0, 9, 5, 3, 8, 8, 2, 8, 5, 7, 0, 7, 0, 9, 6, 9, 2, 9, 4, 8, 5, 2, 0, 1, 6, 6, 6, 7, 4, 1, 7, 7, 8, 5, 9, 0, 6, 4, 2, 1, 2, 8, 0, 0, 2, 9, 5, 9, 1, 0, 4, 3, 7, 6, 4, 3, 1, 8, 4, 7, 2, 5, 9, 3, 1, 7, 1, 9, 2, 9, 6, 2, 2, 1, 8, 4, 9, 8, 4, 0, 4, 8, 4, 5, 1, 2, 2, 6, 4, 1, 8, 5, 7, 7, 7, 0, 5, 5, 7, 9, 9, 8, 2, 8, 2, 1, 3, 3, 4, 8, 9, 4, 0, 7, 0, 6, 8, 1, 2, 6, 1, 6, 5, 4, 9, 7, 2, 8, 9, 3, 7, 0, 1, 2, 1, 7, 4, 8, 8, 5, 0, 2, 3, 0, 1, 2, 6, 5, 0, 1, 5, 5, 2, 5, 1, 9, 8, 7, 1, 2, 9, 0, 9, 0, 1, 9, 0, 4, 6, 6, 5, 9, 9, 2, 2, 7, 1, 8, 1, 4, 2, 3, 7, 8, 4, 0, 4, 5, 4, 2, 9, 3, 5, 8, 0, 1, 9, 6, 7, 3, 7, 4, 4, 6, 6, 2, 1, 3, 3, 6, 7, 0, 5, 9, 8, 9, 3, 7, 9, 9, 6, 8, 8, 0, 1, 4, 4, 0, 6, 8, 1, 2, 1, 0, 3, 2, 7, 8, 7, 0, 4, 3, 2, 4, 5, 7, 9, 4, 5, 2, 4, 5, 0, 1, 7, 6, 7, 6, 0, 0, 2, 5, 1, 1, 2, 4, 6, 9, 8, 1, 0, 1, 6, 8, 5, 4, 0, 4, 0, 4, 9, 3, 8, 5, 2, 8, 6, 2, 8, 6, 4, 4, 0, 8, 7, 5, 2, 8, 9, 2, 9, 5, 9, 2, 1, 0, 4, 1, 7, 7, 1, 7, 3, 5, 8, 7, 2, 5, 1, 5, 6, 0, 6, 0, 1, 2, 4, 4, 8, 0, 3, 2, 6, 3, 5, 1, 3, 3, 0, 5, 1, 8, 3, 1, 8, 5, 8, 4, 2, 0, 3, 7, 8, 1, 3, 9, 0, 2, 8, 1, 4, 8, 8, 3, 0, 8, 5, 7, 5, 4, 7, 7, 6, 1, 8, 1, 7, 7, 0, 3, 1, 6, 5, 5, 3, 8, 9, 4, 0, 9, 5, 1, 7, 2, 1, 5, 2, 8, 3, 3, 1, 7, 1, 3, 4, 4, 5, 7, 0, 6, 7, 3, 3, 7, 8, 8, 2, 9, 6, 9, 7, 1, 2, 9, 3, 0, 5, 5, 6, 9, 1, 4, 1, 5, 6, 4, 1, 4, 0, 3, 3, 6, 3, 0, 8, 4, 7, 5, 5, 7, 0, 7, 9, 4, 4, 2, 9, 1, 9, 1, 8, 8, 8, 5, 8, 3, 8, 9, 3, 0, 0, 2, 1, 8, 4, 4, 0, 0, 9, 5, 3, 1, 5, 1, 3, 5, 0, 2, 2, 1, 5, 3, 0, 8, 2, 9, 3, 9, 0, 0, 4, 1, 2, 6, 4, 9, 1, 4, 9, 7, 8, 2, 6, 0, 9, 7, 8, 5, 0, 9, 0, 0, 0, 8, 1, 3, 2, 7, 5, 8, 2, 5, 2, 8, 9, 1, 9, 1, 8, 1, 5]\n",
            "[9, 2, 1, 1, 6, 1, 4, 6, 5, 7, 4, 5, 7, 3, 4, 1, 2, 4, 8, 0, 2, 5, 7, 9, 1, 4, 6, 0, 9, 3, 8, 8, 3, 3, 8, 0, 7, 5, 7, 9, 6, 1, 3, 7, 6, 7, 2, 1, 2, 2, 4, 4, 5, 8, 2, 2, 8, 4, 8, 0, 7, 7, 8, 5, 1, 1, 2, 3, 9, 8, 7, 0, 2, 6, 2, 3, 1, 2, 8, 4, 1, 8, 5, 9, 5, 0, 3, 2, 0, 6, 5, 3, 6, 7, 1, 8, 0, 1, 4, 2, 3, 6, 7, 2, 7, 8, 5, 9, 9, 4, 2, 5, 7, 0, 5, 2, 8, 6, 7, 8, 0, 0, 9, 9, 3, 0, 8, 4, 1, 5, 4, 1, 9, 1, 8, 6, 2, 1, 2, 5, 1, 0, 0, 0, 1, 6, 1, 6, 2, 2, 4, 4, 1, 4, 5, 0, 4, 7, 9, 3, 7, 2, 3, 9, 0, 9, 4, 7, 4, 2, 0, 5, 2, 1, 2, 1, 3, 0, 9, 1, 0, 9, 3, 6, 7, 9, 9, 4, 4, 7, 1, 2, 1, 6, 3, 2, 8, 3, 6, 1, 1, 0, 2, 9, 2, 4, 0, 7, 9, 8, 4, 1, 8, 4, 1, 3, 1, 6, 7, 2, 8, 5, 2, 0, 7, 7, 6, 2, 7, 0, 7, 8, 9, 2, 9, 0, 5, 1, 4, 4, 5, 6, 9, 2, 6, 8, 6, 4, 2, 2, 9, 7, 6, 5, 5, 2, 8, 5, 2, 3, 0, 4, 8, 0, 0, 6, 3, 8, 9, 6, 1, 3, 0, 2, 3, 0, 8, 3, 7, 4, 0, 1, 6, 3, 0, 6, 6, 7, 5, 4, 5, 9, 5, 6, 5, 5, 1, 9, 8, 8, 3, 3, 6, 8, 0, 0, 2, 9, 7, 7, 1, 3, 6, 4, 2, 4, 9, 1, 6, 4, 8, 2, 6, 5, 4, 6, 7, 7, 7, 3, 3, 7, 0, 7, 1, 3, 7, 2, 2, 3, 4, 0, 3, 1, 6, 1, 9, 4, 9, 9, 1, 7, 8, 3, 6, 0, 2, 4, 8, 0, 1, 2, 2, 4, 4, 7, 3, 2, 2, 5, 0, 7, 9, 4, 0, 9, 3, 9, 4, 2, 5, 0, 2, 3, 5, 8, 1, 6, 2, 6, 6, 4, 9, 5, 2, 0, 4, 6, 1, 2, 0, 9, 7, 0, 4, 4, 6, 6, 2, 1, 0, 6, 7, 2, 9, 4, 2, 1, 5, 4, 5, 3, 8, 5, 8, 4, 4, 8, 9, 8, 6, 2, 4, 4, 2, 4, 1, 6, 1, 3, 0, 9, 8, 8, 6, 5, 3, 1, 9, 5, 3, 3, 0, 1, 0, 2, 9, 2, 0, 6, 3, 4, 2, 0, 0, 3, 3, 8, 2, 8, 9, 4, 0, 7, 6, 4, 4, 9, 2, 9, 5, 9, 3, 7, 5, 7, 8, 1, 0, 0, 3, 4, 8, 9, 7, 9, 1, 2, 7, 0, 2, 0, 5, 7, 1, 8, 2, 2, 2, 2, 4, 2, 6, 1, 9, 8, 5, 1, 9, 1, 2, 8, 3, 8, 9, 2, 4, 2, 8, 8, 2, 0, 5, 8, 8, 5, 3, 9, 4, 3, 4, 4, 5, 1, 0, 1, 2, 0, 6, 9, 6, 1, 5, 1, 1, 1, 9, 3, 4, 5, 3, 6, 6, 6, 4, 6, 0, 5, 8, 3, 3, 4, 6, 7, 7, 8, 9, 0, 3, 8, 7, 6, 7, 9, 3, 4, 6, 6, 5, 0, 1, 1, 5, 9, 4, 6, 5, 7, 8, 1, 2, 9, 7, 7, 1, 0, 9, 3, 2, 9, 0, 7, 6, 8, 2, 7, 0, 2, 3, 8, 2, 2, 6, 9, 3, 0, 7, 8, 6, 2, 9, 4, 2, 6, 6, 8, 0, 4, 4, 4, 7, 5, 8, 4, 9, 1, 0, 5, 4, 4, 4, 0, 0, 4, 5, 6, 0, 4, 5, 4, 1, 3, 1, 1, 6, 4, 3, 8, 2, 8, 2, 7, 0, 4, 0, 8, 5, 0, 8, 2, 9, 0, 8, 9, 6, 4, 2, 9, 3, 4, 5, 0, 9, 5, 3, 6, 6, 8, 3, 3, 8, 1, 4, 0, 9, 7, 9, 4, 8, 9, 1, 6, 7, 3, 0, 2, 6, 7, 1, 0, 0, 8, 5, 2, 6, 6, 6, 4, 1, 5, 9, 0, 2, 1, 6, 5, 0, 0, 3, 3, 3, 8, 1, 1, 8, 5, 7, 7, 8, 7, 2, 0, 7, 3, 8, 0, 9, 7, 6, 1, 2, 6, 4, 8, 0, 6, 3, 6, 8, 4, 0, 8, 9, 2, 4, 5, 9, 1, 4, 4, 9, 2, 1, 7, 9, 5, 8, 1, 7, 7, 1, 1, 1, 6, 9, 5, 3, 8, 4, 2, 7, 4, 8, 3, 2, 4, 4, 7, 1, 4, 9, 3, 5, 8, 5, 4, 7, 2, 8, 5, 9, 3, 3, 6, 7, 1, 7, 3, 5, 4, 4, 5, 8, 3, 7, 1, 2, 6, 1, 9, 8, 2, 7, 1, 3, 7, 5, 9, 9, 1, 8, 2, 5, 7, 1, 9, 8, 1, 0, 0, 6, 1, 7, 1, 1, 5, 7, 1, 5, 2, 2, 3, 3, 1, 1, 4, 9, 4, 3, 7, 7, 0, 8, 9, 9, 6, 1, 3, 4, 0, 0, 5, 9, 2, 0, 5, 5, 1, 5, 7, 8, 7, 5, 3, 6, 4, 0, 4, 0, 6, 0, 2, 5, 5, 1, 2, 0, 9, 3, 7, 8, 6, 8, 3, 4, 7, 0, 7, 4, 8, 0, 3, 4, 4, 3, 4, 9, 0, 6, 4, 9, 1, 8, 1, 7, 5, 5, 6, 0, 2, 1, 0, 5, 4, 0, 0, 6, 7, 5, 0, 3, 5, 9, 6, 8, 0, 6, 4, 6, 2, 9, 6, 7, 7, 1, 4, 2, 6, 5, 3, 9, 9, 8, 8, 3, 0, 2, 4, 6, 6, 3, 2, 3, 5, 4, 9, 3, 4, 7, 7, 0, 3, 5, 5, 6, 0, 5, 9, 6, 3, 7, 5, 1, 9, 8, 8, 9, 9, 2, 7, 2, 2, 3, 8, 7, 6, 4, 5, 4, 3, 6, 1, 4, 9, 3, 1, 6, 5, 0, 5, 7, 5, 2, 3, 3, 9, 6, 3, 6, 0, 4, 5, 0, 4, 9, 4, 6, 3, 6, 7, 0, 2, 1, 1, 4, 4, 8, 5, 9, 0, 1, 6, 5, 1, 4, 4, 8, 4, 7, 7, 3, 8, 1, 1, 9, 8, 1, 3, 3, 7, 5, 1, 5, 7, 8, 9, 6, 3, 5, 8, 4, 4, 3, 8, 4, 5, 5, 6, 7, 1, 5, 0, 5, 4, 8, 6, 2, 1, 1, 7, 9, 6, 2, 7, 0, 4, 8, 2, 2, 6, 6, 6, 4, 9, 6, 8, 4, 5, 9, 0, 3, 9, 4, 9, 8, 7, 4, 2, 2, 5, 3, 7, 6, 7, 2, 9, 3, 7, 0, 9, 4, 8, 6, 4, 7, 6, 4, 6, 2, 0, 7, 8, 4, 2, 6, 5, 5, 6, 4, 5, 5, 8, 1, 1, 7, 4, 6, 9, 6, 8, 7, 2, 2, 1, 2, 7, 7, 6, 9, 8, 5, 1, 1, 0, 2, 0, 9, 0, 1, 9, 6, 5, 5, 2, 0, 7, 0, 2, 0, 1, 3, 1, 3, 4, 7, 2, 4, 9, 5, 2, 9, 0, 3, 4, 4, 6, 6, 5, 2, 2, 5, 6, 1, 4, 2, 5, 4, 4, 8, 0, 2, 4, 0, 6, 2, 6, 8, 3, 8, 2, 0, 4, 4, 8, 8, 4, 5, 2, 2, 3, 0, 1, 9, 0, 9, 1, 9, 6, 5, 2, 2, 7, 3, 8, 5, 0, 8, 0, 7, 5, 5, 9, 5, 0, 6, 0, 3, 4, 4, 4, 8, 7, 1, 3, 4, 0, 6, 5, 1, 6, 7, 3, 4, 8, 8, 2, 8, 9, 4, 1, 6, 5, 2, 7, 8, 5, 3, 8, 5, 4, 2, 8, 9, 8, 4, 3, 3, 8, 8, 2, 0, 9, 4, 4, 8, 1, 3, 6, 1, 9, 2, 1, 6, 2, 7, 9, 4, 6, 0, 4, 4, 2, 4, 5, 0, 2, 8, 3, 7, 6, 4, 0, 0, 5, 2, 8, 2, 4, 3, 0, 2, 1, 7, 7, 5, 4, 7, 2, 4, 7, 3, 3, 1, 3, 3, 6, 6, 1, 7, 0, 4, 7, 1, 0, 6, 5, 8, 4, 4, 7, 9, 5, 0, 7, 9, 5, 1, 2, 9, 5, 5, 3, 9, 9, 1, 2, 7, 8, 0, 1, 7, 2, 7, 1, 1, 5, 5, 6, 4, 5, 9, 5, 5, 2, 3, 9, 3, 8, 5, 2, 0, 0, 0, 5, 7, 8, 5, 2, 6, 4, 4, 7, 4, 0, 5, 1, 7, 2, 3, 6, 8, 9, 8, 7, 1, 2, 3, 2, 9, 7, 5, 6, 1, 0, 7, 1, 2, 6, 9, 3, 6, 4, 4, 3, 0, 0, 6, 3, 6, 1, 3, 5, 6, 5, 0, 9, 1, 1, 8, 2, 9, 5, 0, 5, 4, 6, 7, 1, 1, 5, 3, 8, 9, 8, 3, 8, 9, 2, 6, 1, 1, 3, 5, 2, 7, 1, 9, 9, 2, 2, 7, 0, 1, 3, 9, 6, 3, 7, 2, 8, 1, 8, 0, 7, 9, 8, 5, 8, 2, 6, 4, 0, 6, 5, 8, 3, 8, 7, 5, 7, 3, 7, 0, 7, 0, 2, 2, 5, 3, 5, 1, 1, 7, 7, 6, 3, 0, 4, 2, 8, 6, 3, 1, 4, 9, 9, 4, 5, 2, 2, 7, 8, 0, 7, 9, 1, 2, 9, 4, 7, 3, 4, 3, 3, 1, 8, 8, 5, 3, 8, 6, 3, 4, 3, 2, 0, 2, 7, 3, 6, 8, 3, 9, 7, 3, 1, 7, 5, 8, 8, 2, 0, 6, 6, 4, 6, 5, 7, 0, 6, 6, 7, 7, 3, 9, 2, 5, 9, 7, 1, 7, 2, 4, 5, 1, 3, 5, 4, 5, 0, 4, 4, 1, 4, 4, 8, 4, 5, 9, 4, 1, 1, 7, 2, 3, 5, 0, 3, 9, 7, 5, 3, 8, 8, 8, 9, 1, 1, 6, 3, 1, 6, 3, 4, 9, 9, 6, 0, 6, 9, 4, 9, 6, 6, 1, 8, 9, 2, 9, 4, 8, 0, 7, 2, 3, 6, 2, 5, 6, 1, 9, 0, 2, 2, 9, 9, 0, 8, 3, 6, 6, 6, 0, 2, 6, 6, 6, 5, 0, 2, 7, 8, 7, 4, 6, 6, 6, 5, 2, 4, 2, 9, 5, 2, 6, 7, 0, 1, 9, 5, 5, 6, 7, 7, 5, 0, 5, 0, 8, 4, 7, 9, 8, 2, 4, 7, 3, 3, 7, 7, 7, 8, 4, 9, 5, 7, 6, 5, 7, 5, 1, 3, 0, 4, 9, 9, 8, 3, 7, 0, 3, 4, 9, 3, 4, 1, 7, 9, 1, 5, 7, 2, 7, 6, 5, 5, 3, 7, 5, 5, 4, 0, 7, 3, 3, 2, 0, 2, 9, 9, 0, 3, 0, 8, 3, 8, 8, 4, 4, 1, 8, 2, 3, 5, 0, 4, 4, 3, 0, 0, 1, 0, 8, 4, 9, 0, 7, 0, 7, 7, 1, 5, 8, 7, 2, 9, 9, 1, 2, 4, 1, 1, 1, 8, 8, 1, 3, 7, 5, 2, 0, 8, 4, 8, 9, 4, 1, 3, 1, 9, 8, 1, 1, 1, 8, 0, 9, 9, 7, 6, 0, 4, 2, 1, 1, 7, 9, 4, 2, 0, 3, 6, 6, 8, 1, 7, 2, 4, 2, 2, 3, 8, 7, 1, 8, 5, 5, 7, 7, 6, 6, 2, 9, 6, 6, 0, 5, 5, 0, 2, 1, 0, 3, 5, 9, 1, 7, 2, 5, 7, 9, 8, 9, 1, 2, 8, 3, 2, 3, 6, 0, 8, 3, 8, 6, 8, 6, 0, 8, 8, 8, 2, 9, 3, 2, 0, 8, 5, 7, 0, 1, 1, 1, 9, 5, 1, 3, 3, 6, 0, 8, 2, 1, 3, 8, 8, 6, 7, 5, 6, 6, 7, 3, 3, 2, 4, 6, 5, 5, 4, 2, 3, 7, 1, 1, 7, 3, 8, 7, 2, 2, 9, 3, 9, 9, 0, 1, 5, 1, 2, 8, 1, 4, 9, 3, 4, 0, 0, 7, 6, 9, 9, 5, 5, 7, 0, 9, 3, 3, 6, 9, 8, 4, 2, 2, 3, 9, 4, 3, 6, 7, 3, 0, 4, 8, 1, 8, 7, 3, 4, 5, 2, 2, 9, 1, 9, 4, 9, 1, 6, 2, 8, 8, 7, 7, 7, 7, 2, 6, 0, 7, 5, 8, 5, 6, 0, 2, 4, 9, 2, 6, 1, 1, 9, 3, 1, 2, 2, 2, 3, 7, 5, 7, 4, 4, 4, 1, 2, 3, 5, 4, 2, 9, 1, 5, 9, 3, 6, 6, 4, 0, 1, 7, 7, 4, 6, 7, 7, 3, 0, 4, 3, 2, 7, 8, 7, 2, 8, 0, 8, 7, 4, 6, 2, 7, 0, 9, 9, 3, 1, 5, 9, 3, 1, 0, 3, 3, 5, 9, 7, 9, 8, 3, 5, 9, 3, 7, 9, 3, 4, 6, 6, 5, 7, 7, 6, 3, 5, 3, 1, 1, 9, 4, 3, 9, 5, 5, 7, 2, 4, 9, 0, 2, 1, 9, 7, 1, 5, 0, 5, 5, 0, 3, 5, 0, 3, 3, 7, 4, 2, 6, 8, 5, 9, 2, 1, 0, 5, 5, 8, 5, 3, 7, 4, 4, 3, 9, 6, 0, 0, 9, 1, 4, 3, 1, 5, 3, 8, 5, 1, 1, 2, 9, 4, 0, 5, 2, 8, 0, 2, 9, 8, 2, 4, 8, 3, 8, 0, 2, 0, 0, 4, 8, 5, 4, 9, 0, 9, 5, 8, 6, 9, 1, 2, 7, 2, 1, 6, 6, 0, 6, 5, 0, 4, 8, 5, 5, 2, 0, 3, 8, 6, 3, 1, 9, 2, 9, 7, 3, 6, 4, 8, 3, 4, 8, 5, 6, 8, 3, 3, 1, 4, 2, 0, 4, 9, 0, 2, 1, 9, 9, 8, 1, 8, 8, 3, 3, 3, 8, 5, 9, 6, 6, 8, 7, 0, 3, 0, 0, 0, 5, 7, 5, 0, 7, 9, 1, 6, 4, 8, 9, 3, 5, 6, 0, 4, 4, 7, 8, 9, 1, 8, 2, 5, 5, 3, 1, 1, 8, 8, 3, 0, 7, 0, 1, 8, 1, 6, 4, 9, 8, 9, 8, 8, 6, 9, 1, 8, 4, 2, 7, 7, 0, 5, 1, 1, 0, 6, 4, 3, 0, 4, 3, 5, 1, 6, 3, 3, 4, 4, 5, 6, 9, 8, 3, 3, 1, 0, 2, 1, 4, 4, 4, 8, 4, 9, 0, 9, 9, 5, 0, 6, 0, 5, 0, 3, 9, 8, 3, 6, 1, 9, 4, 1, 6, 4, 5, 4, 1, 6, 8, 5, 9, 4, 5, 3, 8, 8, 1, 0, 6, 8, 9, 0, 5, 6, 2, 4, 9, 3, 2, 6, 8, 5, 9, 2, 3, 1, 6, 3, 6, 2, 7, 2, 1, 2, 0, 3, 0, 4, 8, 5, 0, 8, 5, 2, 7, 8, 1, 5, 9, 8, 0, 9, 0, 9, 3, 9, 5, 7, 9, 6, 0, 7, 1, 5, 5, 9, 5, 4, 6, 2, 4, 5, 9, 7, 4, 2, 2, 9, 9, 6, 2, 1, 3, 7, 1, 8, 7, 9, 1, 8, 9, 3, 7, 7, 7, 1, 7, 4, 4, 0, 2, 4, 5, 2, 8, 9, 6, 8, 6, 0, 7, 7, 5, 0, 1, 9, 6, 0, 4, 9, 2, 2, 6, 7, 1, 0, 5, 0, 7, 2, 8, 6, 3, 6, 1, 7, 4, 8, 7, 4, 1, 7, 8, 2, 4, 4, 4, 4, 1, 8, 6, 7, 2, 9, 4, 5, 0, 6, 3, 8, 8, 2, 0, 7, 2, 4, 0, 3, 1, 0, 8, 1, 7, 7, 2, 6, 3, 1, 2, 7, 0, 0, 0, 6, 2, 7, 2, 8, 3, 6, 3, 0, 9, 7, 3, 5, 4, 9, 6, 4, 5, 0, 6, 8, 4, 0, 4, 4, 0, 4, 1, 6, 4, 3, 7, 1, 3, 6, 4, 1, 1, 5, 6, 3, 8, 3, 4, 1, 7, 4, 9, 8, 8, 4, 5, 5, 6, 7, 3, 9, 1, 0, 5, 3, 7, 0, 1, 1, 8, 3, 2, 0, 5, 9, 6, 3, 8, 1, 0, 4, 6, 2, 4, 8, 3, 4, 2, 1, 9, 1, 7, 9, 5, 7, 6, 1, 5, 8, 8, 2, 6, 4, 6, 3, 1, 6, 4, 0, 3, 9, 8, 4, 0, 8, 4, 3, 9, 7, 1, 1, 7, 5, 1, 9, 4, 4, 2, 4, 8, 6, 7, 1, 3, 0, 7, 3, 5, 8, 1, 4, 2, 3, 4, 8, 8, 8, 4, 8, 1, 8, 9, 3, 0, 6, 0, 2, 9, 7, 3, 7, 0, 1, 3, 5, 9, 3, 0, 5, 0, 5, 8, 7, 3, 6, 2, 8, 0, 0, 9, 3, 0, 5, 8, 1, 1, 2, 6, 6, 6, 8, 6, 6, 3, 3, 9, 5, 4, 3, 3, 1, 8, 1, 5, 2, 6, 0, 7, 9, 3, 2, 7, 1, 7, 6, 1, 6, 2, 6, 6, 7, 0, 4, 9, 3, 2, 5, 0, 8, 6, 2, 6, 7, 4, 2, 1, 1, 0, 3, 5, 5, 2, 6, 2, 1, 8, 0, 3, 4, 3, 4, 2, 9, 2, 8, 9, 6, 2, 0, 6, 4, 5, 4, 7, 8, 1, 6, 3, 4, 2, 9, 4, 3, 5, 1, 2, 6, 0, 1, 1, 0, 2, 6, 9, 9, 0, 1, 2, 4, 6, 7, 6, 1, 1, 7, 7, 8, 7, 6, 5, 1, 7, 0, 0, 9, 2, 1, 6, 2, 2, 5, 8, 5, 2, 7, 8, 4, 0, 9, 0, 8, 1, 3, 8, 2, 8, 2, 0, 6, 3, 8, 7, 8, 2, 6, 6, 6, 0, 4, 5, 3, 4, 1, 1, 9, 7, 0, 6, 2, 1, 4, 2, 7, 7, 1, 8, 3, 8, 7, 9, 8, 7, 2, 7, 9, 7, 2, 2, 3, 6, 3, 3, 9, 1, 1, 4, 8, 0, 9, 7, 5, 2, 8, 8, 3, 6, 3, 0, 8, 2, 2, 5, 9, 2, 6, 8, 3, 2, 8, 3, 3, 1, 1, 3, 0, 1, 8, 4, 1, 5, 8, 1, 5, 8, 0, 7, 8, 7, 5, 9, 5, 5, 3, 0, 7, 8, 4, 5, 1, 6, 4, 2, 4, 4, 7, 7, 9, 7, 2, 5, 8, 5, 8, 5, 3, 0, 9, 7, 2, 0, 6, 8, 4, 0, 7, 3, 7, 6, 8, 4, 7, 0, 0, 4, 0, 6, 7, 8, 1, 3, 8, 1, 7, 3, 6, 1, 1, 6, 6, 9, 8, 0, 8, 2, 7, 7, 1, 3, 0, 3, 0, 7, 8, 7, 6, 5, 2, 6, 7, 5, 5, 8, 9, 7, 3, 2, 4, 8, 3, 9, 5, 7, 6, 2, 6, 7, 3, 8, 5, 1, 8, 9, 2, 6, 1, 4, 2, 7, 4, 0, 4, 4, 8, 9, 7, 9, 2, 6, 8, 2, 6, 0, 6, 3, 4, 1, 5, 6, 7, 5, 0, 7, 6, 2, 0, 5, 1, 1, 3, 7, 3, 8, 8, 7, 5, 9, 9, 5, 5, 4, 0, 7, 1, 4, 6, 0, 9, 9, 4, 6, 8, 6, 5, 7, 8, 0, 2, 7, 6, 2, 4, 8, 1, 0, 4, 8, 0, 7, 5, 8, 7, 7, 5, 5, 2, 7, 6, 2, 2, 0, 3, 6, 2, 0, 3, 9, 4, 5, 4, 4, 1, 2, 5, 7, 0, 5, 0, 2, 5, 0, 4, 8, 0, 2, 7, 2, 7, 2, 3, 4, 7, 1, 2, 3, 4, 2, 2, 3, 9, 9, 2, 8, 0, 4, 0, 0, 1, 9, 3, 9, 0, 8, 3, 9, 4, 7, 9, 1, 5, 8, 1, 3, 6, 2, 4, 8, 6, 3, 3, 0, 0, 0, 3, 6, 1, 6, 8, 6, 7, 3, 0, 0, 5, 8, 8, 8, 6, 1, 0, 8, 7, 8, 5, 8, 7, 0, 7, 2, 7, 1, 5, 5, 8, 3, 2, 8, 5, 9, 9, 2, 0, 6, 7, 1, 8, 8, 8, 7, 2, 0, 9, 7, 9, 6, 9, 4, 1, 4, 7, 2, 5, 2, 6, 2, 9, 0, 7, 1, 9, 7, 6, 5, 3, 8, 4, 9, 3, 9, 5, 7, 5, 1, 3, 3, 6, 6, 7, 5, 3, 5, 5, 8, 7, 7, 4, 6, 5, 5, 6, 4, 8, 3, 0, 9, 2, 3, 2, 2, 7, 4, 0, 7, 1, 4, 8, 1, 4, 7, 8, 2, 0, 7, 2, 0, 2, 2, 2, 2, 3, 0, 5, 2, 3, 2, 8, 0, 0, 8, 4, 6, 4, 8, 3, 5, 1, 3, 9, 1, 4, 9, 6, 7, 4, 0, 0, 2, 5, 6, 2, 5, 6, 5, 1, 7, 9, 2, 6, 7, 3, 0, 2, 8, 1, 0, 9, 9, 7, 8, 4, 6, 9, 7, 7, 5, 8, 8, 7, 5, 3, 5, 5, 0, 8, 9, 7, 2, 1, 4, 7, 1, 0, 2, 3, 2, 2, 9, 4, 7, 7, 0, 5, 0, 8, 8, 6, 8, 5, 6, 0, 7, 3, 0, 2, 2, 5, 2, 0, 7, 7, 7, 1, 5, 2, 1, 8, 5, 2, 4, 8, 7, 7, 6, 7, 1, 0, 9, 5, 3, 9, 3, 5, 0, 7, 4, 2, 0, 1, 6, 5, 9, 3, 2, 8, 5, 7, 3, 1, 2, 0, 8, 1, 8, 5, 6, 9, 3, 3, 8, 0, 4, 2, 0, 6, 4, 2, 3, 4, 5, 9, 1, 1, 9, 4, 7, 6, 4, 1, 0, 0, 7, 7, 0, 7, 8, 0, 5, 6, 4, 4, 8, 9, 7, 4, 9, 5, 3, 7, 2, 4, 1, 9, 7, 8, 1, 3, 9, 3, 6, 7, 8, 6, 5, 6, 7, 9, 9, 7, 0, 6, 2, 3, 4, 2, 9, 5, 3, 9, 2, 8, 8, 6, 0, 4, 1, 9, 3, 3, 5, 1, 5, 5, 9, 2, 8, 5, 5, 9, 5, 4, 6, 7, 3, 5, 4, 2, 3, 9, 4, 8, 1, 9, 2, 6, 2, 4, 8, 8, 7, 7, 3, 9, 3, 9, 6, 8, 2, 6, 9, 0, 4, 4, 5, 7, 0, 4, 6, 4, 1, 3, 1, 6, 7, 8, 8, 9, 7, 0, 5, 7, 3, 6, 0, 4, 0, 3, 6, 8, 8, 8, 0, 2, 3, 2, 8, 8, 1, 4, 1, 1, 6, 3, 2, 2, 8, 0, 0, 4, 1, 3, 2, 7, 0, 6, 7, 9, 9, 6, 7, 0, 9, 9, 8, 4, 8, 3, 4, 0, 9, 6, 6, 4, 3, 8, 4, 3, 6, 9, 6, 4, 7, 4, 7, 8, 8, 2, 2, 8, 8, 0, 1, 5, 8, 9, 8, 7, 1, 0, 3, 6, 6, 0, 9, 3, 9, 9, 1, 5, 9, 4, 1, 7, 0, 1, 0, 5, 3, 8, 8, 4, 1, 7, 0, 5, 0, 4, 1, 7, 1, 7, 9, 6, 3, 9, 6, 2, 5, 3, 5, 8, 8, 2, 4, 7, 7, 4, 6, 0, 5, 5, 2, 6, 2, 5, 6, 8, 5, 6, 9, 1, 3, 1, 4, 5, 9, 0, 9, 0, 3, 5, 6, 1, 5, 8, 5, 6, 6, 9, 1, 9, 1, 7, 1, 8, 0, 3, 4, 0, 2, 0, 3, 3, 8, 8, 0, 3, 6, 8, 1, 1, 3, 3, 2, 2, 1, 8, 3, 2, 0, 2, 3, 2, 3, 9, 2, 3, 0, 4, 5, 7, 1, 6, 1, 0, 0, 3, 8, 5, 1, 6, 5, 4, 8, 1, 7, 1, 6, 4, 9, 4, 2, 1, 5, 3, 1, 5, 8, 7, 7, 7, 2, 7, 5, 4, 4, 2, 0, 6, 8, 9, 9, 5, 8, 0, 4, 4, 1, 3, 7, 9, 0, 0, 9, 8, 5, 3, 0, 7, 1, 9, 7, 8, 4, 0, 9, 9, 1, 2, 0, 6, 2, 2, 5, 1, 0, 4, 8, 3, 4, 8, 3, 4, 0, 0, 3, 6, 7, 2, 4, 1, 5, 2, 0, 7, 9, 9, 1, 5, 5, 9, 1, 4, 6, 1, 2, 8, 3, 5, 7, 8, 0, 4, 2, 7, 2, 7, 5, 0, 8, 7, 8, 8, 4, 9, 2, 5, 5, 9, 9, 6, 4, 2, 6, 6, 3, 8, 7, 6, 6, 7, 5, 2, 9, 0, 3, 4, 4, 8, 4, 0, 2, 7, 0, 5, 2, 6, 6, 8, 0, 6, 2, 0, 2, 5, 5, 8, 0, 7, 0, 8, 9, 0, 2, 1, 2, 5, 1, 6, 2, 9, 6, 4, 9, 9, 1, 4, 3, 1, 2, 8, 6, 3, 6, 0, 2, 0, 2, 3, 3, 5, 2, 3, 6, 6, 8, 5, 4, 0, 1, 2, 2, 2, 6, 7, 9, 6, 4, 3, 3, 6, 8, 5, 4, 4, 0, 3, 3, 5, 2, 5, 1, 5, 5, 1, 7, 5, 2, 1, 8, 8, 0, 9, 6, 0, 6, 3, 2, 1, 8, 3, 4, 2, 1, 2, 0, 3, 0, 8, 5, 1, 5, 0, 2, 0, 3, 9, 8, 2, 8, 1, 0, 2, 6, 2, 0, 3, 7, 5, 0, 6, 2, 6, 8, 4, 2, 1, 8, 6, 8, 2, 9, 2, 6, 8, 5, 2, 7, 3, 2, 2, 6, 4, 6, 8, 5, 2, 1, 5, 2, 8, 2, 9, 0, 6, 3, 6, 4, 6, 7, 7, 9, 6, 4, 9, 8, 0, 5, 8, 7, 7, 6, 7, 7, 0, 7, 7, 2, 9, 7, 4, 2, 2, 3, 8, 0, 1, 9, 8, 0, 6, 2, 8, 3, 8, 0, 7, 6, 4, 3, 8, 1, 3, 8, 7, 3, 0, 3, 4, 8, 8, 9, 1, 3, 2, 1, 4, 8, 0, 4, 6, 7, 3, 9, 4, 9, 0, 4, 6, 5, 7, 0, 8, 1, 7, 5, 4, 9, 5, 7, 3, 2, 0, 9, 8, 7, 3, 7, 7, 4, 7, 5, 8, 5, 2, 4, 6, 2, 3, 8, 9, 7, 1, 3, 4, 2, 9, 7, 1, 2, 2, 6, 0, 5, 5, 4, 5, 2, 8, 9, 4, 9, 9, 1, 4, 3, 1, 5, 5, 5, 6, 8, 1, 5, 5, 9, 5, 9, 8, 3, 1, 1, 4, 6, 6, 9, 3, 6, 4, 4, 8, 6, 5, 4, 9, 0, 2, 8, 4, 8, 6, 3, 6, 1, 4, 3, 3, 8, 4, 9, 9, 0, 7, 9, 5, 3, 1, 7, 2, 8, 4, 9, 6, 1, 6, 0, 5, 8, 1, 9, 3, 0, 8, 3, 8, 4, 2, 5, 6, 9, 0, 1, 4, 0, 7, 9, 0, 1, 3, 9, 5, 1, 4, 1, 1, 4, 8, 3, 9, 5, 4, 4, 3, 7, 7, 7, 2, 3, 9, 1, 9, 4, 4, 0, 7, 6, 6, 7, 9, 0, 6, 4, 9, 0, 4, 0, 2, 7, 9, 6, 1, 1, 2, 0, 8, 8, 7, 4, 2, 7, 5, 7, 6, 1, 8, 1, 4, 9, 8, 9, 0, 1, 0, 6, 0, 3, 0, 6, 4, 1, 9, 7, 1, 2, 2, 5, 3, 4, 1, 7, 4, 7, 0, 2, 8, 8, 1, 4, 9, 9, 6, 3, 4, 9, 3, 9, 8, 5, 3, 8, 4, 7, 1, 4, 1, 9, 6, 8, 3, 2, 4, 8, 1, 1, 5, 8, 6, 1, 6, 2, 5, 0, 9, 5, 3, 5, 0, 6, 5, 4, 8, 3, 8, 0, 2, 9, 9, 1, 5, 3, 2, 6, 5, 3, 0, 3, 0, 7, 4, 0, 2, 1, 9, 5, 1, 7, 5, 5, 5, 9, 4, 8, 4, 6, 6, 4, 6, 4, 1, 1, 2, 2, 8, 4, 9, 0, 5, 8, 1, 0, 8, 3, 2, 4, 8, 3, 0, 9, 3, 4, 9, 7, 2, 6, 2, 2, 8, 9, 6, 1, 4, 7, 7, 9, 7, 3, 2, 9, 2, 7, 3, 0, 2, 6, 7, 2, 3, 3, 1, 9, 5, 8, 2, 3, 5, 0, 0, 4, 5, 8, 3, 5, 0, 7, 7, 6, 0, 9, 5, 1, 4, 4, 5, 3, 0, 6, 1, 4, 6, 5, 4, 8, 5, 7, 3, 0, 8, 3, 5, 2, 4, 9, 8, 5, 9, 8, 1, 9, 5, 0, 1, 5, 3, 3, 3, 3, 4, 4, 3, 6, 7, 8, 0, 9, 6, 3, 0, 4, 2, 7, 3, 5, 7, 3, 7, 8, 4, 6, 2, 2, 3, 1, 0, 7, 5, 6, 6, 4, 1, 1, 4, 7, 2, 3, 5, 5, 0, 4, 4, 4, 8, 9, 9, 2, 6, 9, 8, 3, 5, 3, 1, 4, 5, 0, 1, 8, 5, 8, 6, 0, 7, 8, 9, 2, 2, 6, 3, 2, 2, 2, 8, 9, 1, 9, 7, 4, 5, 6, 3, 2, 4, 5, 6, 6, 5, 8, 6, 2, 2, 9, 4, 9, 8, 3, 0, 2, 7, 7, 5, 9, 7, 7, 3, 8, 7, 5, 9, 9, 8, 2, 1, 0, 8, 0, 2, 6, 7, 9, 2, 2, 5, 4, 3, 2, 1, 1, 9, 6, 5, 5, 4, 9, 8, 9, 6, 5, 4, 6, 0, 5, 7, 8, 4, 8, 8, 7, 4, 9, 4, 9, 6, 9, 7, 3, 9, 9, 3, 6, 0, 2, 8, 7, 9, 4, 0, 0, 4, 1, 0, 3, 8, 4, 8, 4, 4, 3, 3, 5, 7, 7, 8, 5, 6, 3, 2, 1, 8, 3, 8, 5, 4, 2, 3, 0, 8, 3, 3, 2, 9, 0, 9, 9, 0, 1, 8, 3, 0, 3, 8, 6, 8, 5, 1, 3, 0, 1, 9, 3, 5, 0, 6, 2, 3, 1, 5, 3, 2, 8, 5, 7, 8, 0, 1, 1, 0, 6, 4, 5, 9, 0, 7, 2, 3, 6, 4, 6, 3, 6, 9, 4, 9, 0, 8, 3, 5, 6, 2, 0, 1, 3, 9, 4, 2, 5, 0, 5, 3, 2, 5, 0, 0, 0, 0, 0, 9, 1, 3, 4, 3, 5, 5, 6, 6, 1, 4, 9, 7, 4, 4, 7, 5, 7, 1, 6, 8, 7, 9, 5, 7, 0, 2, 9, 2, 5, 0, 7, 6, 4, 5, 2, 9, 4, 3, 2, 5, 9, 2, 5, 9, 7, 3, 8, 3, 5, 6, 5, 3, 0, 7, 6, 9, 5, 1, 3, 6, 9, 3, 6, 2, 5, 3, 4, 9, 9, 1, 2, 2, 2, 4, 6, 8, 7, 9, 9, 4, 8, 8, 9, 0, 7, 0, 4, 3, 8, 6, 4, 2, 0, 1, 4, 0, 2, 1, 5, 4, 6, 6, 0, 3, 4, 5, 6, 8, 7, 6, 0, 3, 1, 8, 8, 8, 9, 9, 5, 5, 8, 6, 5, 4, 4, 2, 5, 6, 9, 2, 9, 1, 0, 4, 6, 6, 9, 8, 0, 4, 9, 1, 9, 4, 7, 3, 5, 4, 3, 4, 6, 1, 6, 2, 4, 3, 7, 8, 4, 5, 5, 9, 0, 6, 3, 4, 5, 5, 5, 7, 3, 1, 3, 3, 7, 0, 7, 7, 6, 8, 3, 5, 5, 8, 1, 9, 4, 0, 4, 2, 1, 6, 0, 1, 6, 5, 0, 8, 1, 1, 7, 5, 2, 5, 9, 0, 8, 3, 4, 4, 2, 7, 0, 7, 6, 6, 2, 3, 7, 1, 6, 4, 3, 3, 0, 0, 6, 4, 8, 7, 0, 3, 6, 4, 7, 3, 3, 6, 0, 2, 4, 4, 1, 8, 1, 9, 1, 2, 6, 4, 2, 5, 3, 3, 5, 3, 5, 8, 3, 9, 7, 3, 0, 0, 1, 0, 1, 0, 7, 7, 4, 8, 9, 0, 1, 5, 4, 9, 4, 7, 9, 9, 7, 0, 1, 0, 9, 9, 5, 1, 7, 2, 9, 1, 5, 6, 8, 1, 7, 3, 0, 8, 4, 7, 0, 8, 9, 8, 8, 4, 5, 6, 4, 5, 9, 0, 0, 5, 3, 7, 7, 4, 4, 7, 4, 5, 8, 3, 7, 2, 7, 3, 8, 8, 8, 7, 8, 6, 0, 5, 7, 9, 8, 5, 6, 0, 6, 4, 4, 2, 8, 9, 9, 1, 9, 5, 8, 4, 4, 8, 4, 8, 7, 4, 8, 3, 0, 7, 8, 8, 3, 9, 9, 5, 9, 2, 6, 9, 7, 5, 7, 4, 9, 9, 2, 3, 9, 5, 3, 5, 6, 1, 2, 9, 1, 4, 8, 5, 1, 7, 9, 0, 3, 3, 6, 9, 0, 4, 6, 0, 0, 2, 9, 7, 1, 9, 8, 5, 6, 8, 5, 9, 5, 2, 4, 2, 5, 2, 2, 5, 4, 2, 7, 1, 2, 6, 8, 2, 5, 6, 2, 6, 9, 5, 5, 1, 5, 2, 4, 4, 2, 4, 1, 9, 3, 7, 2, 7, 4, 2, 9, 7, 4, 6, 6, 1, 7, 1, 4, 7, 6, 1, 7, 3, 0, 3, 6, 4, 9, 0, 4, 1, 7, 9, 0, 2, 7, 6, 6, 7, 1, 9, 5, 2, 9, 8, 6, 4, 0, 1, 3, 2, 2, 8, 1, 0, 8, 1, 8, 1, 0, 1, 4, 7, 3, 7, 7, 3, 3, 9, 9, 0, 8, 2, 5, 8, 9, 5, 3, 5, 4, 1, 6, 9, 2, 6, 2, 6, 1, 8, 1, 3, 3, 0, 2, 1, 7, 0, 5, 4, 5, 3, 6, 2, 1, 6, 0, 7, 3, 6, 6, 3, 6, 1, 5, 2, 9, 0, 8, 0, 4, 4, 0, 1, 7, 5, 3, 3, 3, 2, 0, 3, 5, 2, 6, 2, 5, 1, 4, 6, 2, 1, 9, 3, 4, 6, 9, 5, 8, 0, 6, 3, 6, 0, 8, 1, 2, 3, 3, 1, 5, 5, 3, 2, 6, 7, 1, 3, 2, 3, 6, 1, 2, 2, 8, 0, 8, 4, 7, 0, 3, 1, 3, 8, 3, 4, 1, 2, 0, 3, 6, 7, 7, 8, 3, 6, 9, 5, 6, 6, 9, 5, 4, 3, 8, 5, 3, 8, 3, 7, 9, 6, 2, 5, 1, 0, 5, 2, 3, 5, 7, 9, 6, 0, 7, 1, 2, 0, 8, 2, 2, 2, 7, 8, 0, 2, 4, 4, 9, 7, 3, 2, 5, 4, 5, 1, 9, 5, 0, 5, 2, 4, 1, 7, 9, 0, 3, 3, 4, 9, 1, 0, 1, 9, 5, 6, 8, 2, 2, 1, 4, 0, 6, 7, 9, 0, 1, 1, 4, 3, 6, 9, 8, 1, 3, 7, 3, 9, 9, 5, 4, 2, 3, 6, 8, 8, 5, 5, 1, 8, 8, 5, 7, 9, 9, 3, 4, 4, 2, 7, 9, 6, 6, 7, 5, 4, 7, 6, 1, 4, 2, 2, 6, 9, 0, 0, 5, 1, 1, 7, 8, 3, 6, 6, 2, 0, 2, 4, 9, 5, 2, 4, 6, 4, 6, 1, 5, 2, 7, 8, 6, 7, 7, 0, 8, 4, 3, 6, 9, 1, 2, 1, 7, 4, 3, 4, 9, 9, 2, 2, 4, 3, 0, 5, 7, 5, 2, 7, 8, 9, 9, 2, 7, 8, 7, 7, 5, 8, 7, 6, 6, 9, 0, 1, 8, 7, 5, 4, 5, 3, 7, 6, 6, 5, 5, 6, 9, 9, 1, 9, 5, 9, 4, 4, 1, 5, 8, 3, 5, 1, 8, 6, 5, 0, 2, 3, 7, 1, 1, 1, 8, 7, 5, 6, 3, 4, 7, 0, 0, 5, 3, 4, 8, 6, 5, 2, 7, 3, 2, 3, 2, 7, 8, 0, 9, 0, 9, 5, 8, 0, 7, 3, 9, 0, 9, 7, 3, 0, 6, 5, 7, 8, 2, 3, 1, 9, 0, 2, 9, 1, 3, 4, 0, 3, 0, 6, 2, 3, 8, 6, 2, 9, 5, 6, 1, 8, 2, 4, 1, 6, 2, 9, 4, 6, 7, 9, 6, 3, 5, 4, 5, 9, 8, 5, 3, 0, 1, 2, 6, 4, 1, 9, 4, 4, 6, 5, 5, 4, 3, 2, 0, 1, 4, 9, 9, 7, 6, 1, 2, 6, 6, 2, 6, 2, 5, 9, 4, 8, 2, 6, 1, 5, 9, 6, 1, 8, 9, 3, 1, 7, 1, 1, 1, 9, 1, 3, 8, 9, 9, 1, 9, 6, 0, 5, 8, 5, 5, 5, 3, 8, 9, 0, 7, 8, 2, 9, 2, 0, 1, 5, 0, 7, 8, 0, 0, 9, 1, 1, 8, 2, 8, 7, 2, 0, 7, 2, 0, 0, 5, 1, 0, 8, 6, 3, 7, 2, 1, 9, 7, 4, 1, 3, 9, 2, 4, 0, 3, 7, 5, 1, 1, 9, 5, 1, 5, 4, 6, 6, 1, 5, 2, 1, 6, 6, 5, 7, 9, 4, 3, 4, 1, 7, 9, 0, 5, 7, 3, 3, 8, 4, 1, 8, 2, 5, 4, 4, 8, 9, 2, 9, 3, 2, 6, 1, 1, 6, 6, 1, 4, 9, 8, 5, 9, 1, 5, 6, 9, 3, 2, 1, 7, 4, 9, 8, 8, 9, 5, 5, 3, 8, 2, 0, 3, 6, 1, 1, 9, 0, 9, 7, 5, 3, 2, 9, 5, 5, 4, 2, 9, 9, 3, 0, 6, 3, 1, 7, 4, 9, 2, 8, 5, 8, 6, 0, 1, 3, 2, 2, 3, 6, 6, 0, 2, 8, 3, 2, 8, 6, 1, 8, 4, 5, 4, 2, 3, 9, 0, 4, 4, 2, 5, 4, 2, 7, 6, 7, 3, 3, 6, 9, 6, 8, 5, 6, 6, 3, 6, 7, 2, 5, 3, 1, 1, 9, 7, 5, 4, 2, 1, 6, 4, 5, 9, 2, 5, 5, 3, 3, 0, 9, 2, 2, 2, 3, 2, 4, 9, 2, 3, 0, 4, 2, 0, 4, 1, 3, 7, 2, 4, 2, 2, 3, 2, 3, 0, 8, 3, 5, 1, 2, 8, 8, 2, 1, 2, 1, 1, 9, 6, 5, 9, 6, 8, 0, 3, 6, 3, 1, 3, 7, 5, 6, 1, 1, 2, 0, 5, 5, 0, 1, 6, 5, 2, 8, 9, 7, 9, 1, 1, 3, 3, 5, 6, 7, 5, 9, 4, 9, 3, 6, 6, 0, 8, 5, 6, 5, 9, 8, 3, 8, 1, 3, 1, 3, 5, 6, 5, 4, 4, 9, 6, 7, 1, 4, 8, 3, 7, 7, 6, 7, 9, 4, 7, 7, 0, 1, 4, 1, 4, 8, 2, 4, 7, 6, 7, 1, 8, 7, 5, 1, 3, 1, 0, 3, 4, 5, 4, 8, 6, 3, 4, 9, 3, 1, 5, 3, 0, 7, 0, 3, 4, 5, 1, 6, 6, 2, 8, 8, 9, 8, 6, 7, 2, 4, 2, 5, 1, 9, 6, 3, 8, 7, 1, 8, 1, 2, 0, 9, 2, 4, 4, 4, 6, 1, 3, 5, 2, 9, 7, 5, 2, 7, 5, 5, 4, 4, 8, 0, 7, 0, 8, 0, 2, 1, 9, 7, 7, 3, 8, 0, 3, 0, 9, 8, 5, 6, 4, 8, 1, 5, 5, 7, 0, 1, 6, 1, 3, 2, 6, 4, 6, 1, 7, 6, 2, 2, 6, 1, 8, 2, 2, 6, 3, 0, 8, 8, 4, 6, 2, 0, 7, 0, 8, 9, 1, 6, 6, 7, 0, 8, 1, 8, 2, 4, 6, 7, 5, 7, 9, 9, 3, 9, 4, 4, 6, 4, 1, 4, 8, 4, 2, 8, 6, 2, 2, 9, 1, 8, 0, 6, 2, 6, 0, 3, 6, 6, 1, 3, 6, 3, 3, 1, 7, 8, 1, 0, 7, 6, 5, 0, 8, 2, 6, 5, 8, 7, 8, 4, 5, 9, 5, 5, 1, 2, 4, 7, 2, 9, 7, 8, 3, 7, 4, 6, 3, 8, 8, 4, 5, 1, 8, 2, 6, 2, 2, 9, 8, 9, 0, 2, 5, 9, 3, 5, 9, 8, 6, 3, 9, 5, 9, 3, 0, 8, 6, 0, 6, 3, 5, 8, 0, 6, 1, 8, 6, 9, 0, 0, 7, 6, 6, 8, 7, 6, 8, 8, 2, 0, 3, 6, 7, 1, 3, 7, 4, 0, 7, 1, 6, 5, 2, 0, 7, 9, 0, 3, 8, 2, 1, 1, 8, 8, 3, 5, 7, 5, 6, 7, 4, 3, 9, 3, 8, 9, 0, 4, 0, 4, 5, 7, 0, 4, 3, 9, 5, 7, 2, 2, 5, 8, 3, 1, 3, 5, 4, 9, 4, 3, 9, 9, 2, 0, 8, 0, 9, 1, 9, 9, 0, 7, 1, 4, 5, 0, 3, 8, 7, 4, 5, 5, 9, 3, 2, 0, 0, 9, 0, 5, 0, 1, 3, 7, 9, 1, 5, 9, 6, 0, 9, 7, 2, 9, 2, 1, 2, 7, 5, 1, 0, 7, 3, 4, 7, 6, 4, 6, 8, 5, 7, 9, 5, 7, 3, 6, 3, 9, 3, 4, 1, 5, 6, 9, 7, 4, 0, 6, 5, 8, 0, 7, 7, 3, 2, 0, 4, 8, 2, 0, 6, 9, 8, 9, 2, 5, 0, 4, 0, 2, 6, 3, 1, 8, 7, 4, 1, 9, 1, 2, 8, 5, 6, 3, 0, 0, 2, 6, 0, 7, 2, 1, 8, 4, 8, 7, 9, 4, 1, 6, 5, 7, 7, 3, 2, 5, 7, 3, 6, 7, 3, 2, 2, 9, 6, 7, 3, 9, 1, 2, 1, 9, 7, 2, 3, 3, 8, 1, 8, 3, 5, 0, 5, 3, 8, 5, 7, 4, 9, 0, 6, 8, 3, 2, 3, 3, 4, 3, 7, 8, 7, 1, 3, 7, 8, 9, 5, 5, 2, 2, 4, 5, 0, 8, 0, 3, 6, 0, 8, 8, 9, 6, 9, 1, 5, 1, 2, 1, 3, 2, 2, 2, 4, 5, 7, 5, 9, 2, 0, 5, 7, 0, 5, 6, 5, 6, 6, 4, 0, 7, 1, 5, 2, 9, 8, 1, 7, 6, 4, 4, 0, 7, 1, 8, 5, 7, 8, 5, 5, 1, 8, 5, 9, 7, 7, 6, 5, 2, 2, 1, 2, 4, 4, 1, 6, 3, 9, 1, 8, 2, 3, 7, 6, 9, 5, 7, 4, 3, 9, 5, 6, 2, 2, 7, 3, 9, 3, 0, 5, 9, 0, 9, 6, 6, 6, 5, 9, 1, 6, 5, 2, 0, 2, 3, 1, 1, 1, 7, 6, 2, 6, 5, 9, 8, 7, 9, 3, 2, 7, 9, 2, 0, 1, 1, 1, 4, 8, 0, 8, 0, 9, 5, 6, 7, 0, 8, 4, 4, 4, 2, 2, 2, 5, 7, 2, 9, 9, 2, 2, 2, 0, 7, 4, 5, 2, 3, 3, 1, 9, 8, 1, 8, 6, 6, 3, 9, 1, 9, 7, 2, 9, 0, 9, 3, 0, 4, 2, 3, 4, 6, 6, 9, 6, 1, 1, 0, 5, 6, 7, 0, 4, 1, 1, 9, 0, 0, 1, 9, 6, 7, 3, 5, 4, 1, 2, 0, 4, 0, 3, 0, 2, 3, 5, 9, 5, 8, 9, 3, 1, 7, 8, 9, 4, 1, 1, 9, 0, 7, 0, 0, 9, 6, 0, 2, 9, 6, 8, 5, 5, 9, 3, 3, 5, 7, 1, 2, 3, 3, 5, 6, 6, 4, 1, 1, 9, 1, 6, 6, 6, 2, 2, 6, 6, 6, 3, 5, 0, 3, 0, 5, 1, 1, 8, 2, 5, 3, 5, 1, 4, 4, 3, 1, 2, 7, 9, 6, 3, 8, 5, 6, 6, 9, 1, 5, 7, 7, 4, 2, 2, 7, 5, 4, 1, 5, 7, 7, 8, 2, 8, 3, 7, 4, 6, 2, 9, 9, 0, 0, 7, 3, 1, 0, 8, 2, 4, 4, 6, 7, 1, 8, 6, 0, 3, 4, 0, 3, 9, 8, 0, 0, 8, 3, 9, 2, 1, 5, 4, 5, 0, 8, 4, 2, 5, 9, 3, 0, 2, 7, 8, 5, 9, 5, 0, 0, 6, 9, 7, 2, 9, 2, 2, 6, 4, 0, 1, 4, 3, 9, 4, 0, 3, 4, 4, 6, 9, 4, 7, 2, 5, 4, 3, 4, 5, 7, 0, 2, 1, 1, 8, 7, 3, 2, 6, 5, 2, 3, 8, 8, 8, 9, 3, 6, 9, 6, 0, 3, 6, 4, 2, 8, 8, 5, 9, 2, 7, 1, 9, 0, 3, 3, 3, 2, 3, 9, 9, 5, 3, 2, 4, 2, 4, 6, 4, 5, 3, 4, 9, 8, 5, 8, 3, 4, 1, 4, 8, 9, 2, 6, 2, 3, 5, 0, 3, 5, 2, 5, 3, 9, 1, 2, 9, 8, 9, 3, 8, 8, 5, 5, 8, 4, 4, 0, 8, 3, 6, 4, 9, 6, 1, 0, 5, 1, 4, 0, 9, 2, 6, 3, 6, 7, 4, 6, 4, 3, 8, 5, 1, 8, 3, 4, 2, 5, 6, 0, 7, 8, 7, 4, 4, 2, 2, 9, 3, 5, 0, 9, 9, 0, 1, 3, 7, 1, 9, 6, 5, 2, 6, 9, 5, 7, 9, 4, 2, 8, 3, 1, 7, 8, 8, 6, 8, 0, 5, 5, 7, 1, 9, 6, 2, 1, 5, 1, 9, 6, 1, 6, 3, 2, 5, 3, 9, 3, 5, 4, 0, 6, 9, 5, 4, 2, 3, 8, 5, 8, 3, 6, 4, 1, 4, 9, 5, 8, 9, 7, 3, 6, 9, 5, 9, 1, 1, 1, 8, 4, 1, 4, 6, 9, 9, 8, 9, 7, 4, 4, 1, 9, 9, 1, 9, 3, 2, 3, 7, 1, 1, 3, 6, 8, 3, 4, 3, 3, 8, 3, 7, 1, 0, 3, 8, 4, 7, 9, 8, 0, 3, 0, 4, 5, 7, 6, 7, 3, 5, 0, 2, 3, 3, 3, 0, 6, 4, 4, 4, 4, 4, 9, 9, 0, 7, 4, 0, 2, 2, 1, 9, 5, 9, 9, 0, 5, 8, 6, 7, 3, 9, 5, 2, 8, 9, 5, 8, 0, 0, 3, 0, 6, 3, 7, 8, 0, 1, 2, 2, 3, 1, 1, 3, 2, 2, 5, 4, 3, 9, 3, 3, 2, 3, 7, 2, 9, 2, 1, 6, 7, 5, 5, 9, 2, 6, 9, 7, 9, 7, 4, 1, 8, 3, 3, 8, 0, 8, 7, 0, 7, 7, 9, 6, 3, 0, 3, 7, 4, 1, 5, 2, 0, 5, 8, 6, 7, 0, 1, 0, 5, 6, 2, 1, 4, 1, 8, 7, 9, 9, 7, 3, 2, 2, 4, 7, 6, 3, 9, 6, 3, 9, 5, 1, 6, 9, 2, 7, 4, 3, 5, 7, 2, 7, 2, 8, 7, 5, 4, 5, 9, 4, 3, 5, 0, 2, 5, 5, 3, 1, 9, 3, 7, 1, 0, 3, 4, 4, 2, 5, 7, 2, 1, 1, 7, 7, 7, 0, 1, 6, 8, 5, 2, 5, 3, 7, 8, 7, 7, 0, 8, 5, 6, 6, 5, 5, 6, 7, 7, 9, 7, 1, 0, 0, 8, 0, 4, 0, 6, 4, 5, 5, 0, 5, 3, 6, 4, 5, 0, 7, 1, 8, 7, 1, 3, 2, 0, 6, 7, 3, 7, 4, 8, 0, 3, 9, 4, 0, 3, 0, 8, 7, 3, 3, 6, 5, 0, 1, 5, 0, 9, 9, 1, 3, 0, 6, 1, 6, 6, 5, 7, 2, 4, 0, 9, 2, 6, 8, 2, 8, 3, 7, 7, 3, 3, 9, 5, 7, 6, 0, 9, 4, 5, 0, 7, 2, 9, 5, 5, 8, 7, 1, 9, 5, 6, 3, 6, 3, 0, 2, 7, 6, 4, 2, 5, 4, 1, 5, 7, 9, 7, 3, 9, 8, 0, 5, 1, 9, 6, 1, 0, 6, 8, 0, 7, 6, 9, 8, 8, 4, 4, 4, 1, 7, 7, 1, 1, 6, 7, 6, 3, 2, 8, 7, 8, 7, 9, 1, 1, 3, 8, 9, 5, 9, 1, 0, 6, 3, 4, 4, 4, 7, 1, 3, 0, 1, 5, 4, 4, 9, 2, 4, 2, 2, 6, 7, 7, 6, 7, 1, 4, 0, 8, 3, 3, 5, 6, 0, 8, 3, 0, 2, 0, 1, 8, 4, 0, 2, 9, 5, 4, 4, 5, 2, 1, 6, 4, 6, 5, 8, 0, 7, 3, 2, 6, 7, 2, 2, 3, 6, 6, 2, 0, 3, 2, 5, 1, 7, 5, 2, 5, 7, 7, 9, 9, 9, 2, 0, 9, 2, 0, 5, 5, 5, 0, 5, 0, 6, 6, 0, 6, 9, 9, 2, 4, 5, 4, 0, 1, 0, 8, 9, 5, 7, 3, 0, 2, 4, 1, 3, 8, 1, 8, 2, 0, 6, 9, 8, 5, 1, 2, 4, 0, 9, 6, 8, 8, 0, 7, 1, 6, 9, 8, 9, 9, 4, 9, 6, 3, 3, 4, 5, 0, 8, 0, 4, 0, 3, 0, 0, 0, 3, 3, 5, 9, 4, 7, 1, 5, 4, 1, 6, 1, 7, 9, 4, 3, 4, 5, 2, 9, 4, 9, 8, 8, 7, 4, 2, 3, 9, 3, 6, 7, 0, 2, 7, 0, 6, 1, 0, 5, 7, 0, 5, 9, 4, 3, 2, 8, 5, 8, 1, 9, 6, 7, 6, 7, 3, 6, 4, 5, 1, 8, 8, 8, 7, 4, 6, 5, 1, 5, 9, 6, 0, 9, 5, 8, 5, 7, 3, 9, 8, 3, 4, 6, 5, 7, 5, 1, 1, 5, 4, 1, 8, 5, 8, 2, 9, 6, 3, 3, 4, 0, 2, 4, 1, 1, 6, 7, 3, 9, 0, 2, 8, 8, 8, 6, 7, 7, 1, 2, 6, 6, 1, 6, 0, 2, 5, 8, 2, 4, 2, 3, 1, 5, 5, 4, 4, 0, 5, 4, 7, 6, 3, 4, 5, 5, 7, 5, 7, 0, 1, 1, 9, 7, 5, 0, 1, 9, 6, 3, 6, 5, 4, 3, 6, 5, 7, 2, 2, 2, 0, 5, 6, 6, 3, 7, 8, 6, 2, 6, 1, 1, 7, 5, 2, 5, 3, 4, 8, 5, 8, 8, 6, 1, 2, 3, 5, 6, 9, 0, 4, 5, 2, 3, 4, 9, 5, 5, 9, 4, 6, 4, 1, 1, 8, 9, 4, 4, 2, 3, 3, 0, 7, 1, 8, 8, 5, 0, 0, 7, 7, 1, 0, 1, 4, 1, 9, 0, 4, 1, 1, 0, 7, 3, 7, 3, 9, 0, 1, 8, 9, 0, 0, 6, 0, 9, 1, 6, 1, 2, 7, 8, 0, 5, 6, 8, 2, 5, 5, 1, 5, 9, 1, 8, 5, 3, 1, 6, 6, 0, 7, 3, 5, 4, 8, 0, 7, 1, 2, 3, 9, 8, 3, 8, 7, 7, 9, 7, 0, 9, 4, 0, 9, 6, 1, 9, 8, 6, 3, 7, 4, 9, 5, 4, 7, 1, 2, 1, 2, 3, 9, 2, 0, 5, 0, 0, 5, 5, 4, 0, 9, 9, 1, 6, 7, 7, 7, 4, 5, 1, 2, 0, 6, 3, 8, 9, 8, 4, 1, 0, 8, 3, 9, 8, 8, 7, 8, 3, 0, 0, 7, 4, 8, 6, 9, 9, 4, 5, 7, 2, 2, 1, 5, 3, 4, 0, 5, 5, 0, 8, 4, 7, 8, 9, 4, 2, 1, 7, 4, 4, 4, 9, 4, 3, 6, 0, 7, 7, 8, 0, 9, 1, 2, 6, 2, 9, 7, 1, 9, 7, 3, 3, 1, 2, 3, 5, 4, 3, 7, 4, 1, 4, 6, 6, 7, 5, 4, 6, 7, 9, 8, 1, 8, 1, 2, 2, 5, 5, 6, 1, 4, 6, 6, 1, 2, 0, 7, 6, 8, 8, 2, 8, 4, 5, 0, 0, 1, 7, 9, 7, 4, 9, 4, 0, 2, 8, 7, 1, 0, 8, 7, 6, 8, 4, 8, 2, 8, 0, 1, 5, 3, 8, 1, 7, 4, 9, 3, 7, 9, 5, 1, 8, 3, 0, 9, 3, 6, 2, 4, 2, 7, 6, 2, 9, 8, 8, 1, 5, 7, 7, 1, 9, 5, 4, 1, 0, 7, 8, 7, 3, 7, 6, 2, 5, 5, 4, 6, 7, 2, 6, 3, 2, 0, 4, 7, 8, 6, 6, 0, 1, 5, 3, 8, 3, 9, 7, 1, 7, 1, 0, 3, 8, 5, 0, 0, 6, 4, 1, 1, 2, 9, 0, 6, 2, 1, 3, 2, 7, 6, 1, 8, 5, 7, 2, 0, 5, 0, 4, 6, 2, 2, 5, 4, 1, 8, 2, 1, 5, 3, 8, 8, 9, 9, 0, 1, 8, 1, 4, 9, 0, 3, 1, 1, 4, 7, 8, 3, 4, 9, 6, 6, 8, 3, 8, 2, 9, 4, 7, 7, 0, 3, 0, 2, 5, 7, 3, 7, 4, 6, 0, 9, 3, 6, 5, 4, 1, 2, 1, 8, 1, 9, 4, 8, 9, 9, 3, 3, 7, 0, 6, 6, 1, 6, 6, 6, 4, 2, 2, 7, 0, 6, 1, 2, 0, 0, 1, 6, 0, 3, 5, 7, 9, 1, 6, 3, 7, 5, 1, 2, 7, 7, 5, 8, 0, 9, 1, 0, 1, 6, 9, 1, 6, 5, 3, 3, 0, 7, 1, 2, 7, 9, 3, 7, 4, 4, 4, 6, 7, 4, 7, 3, 1, 7, 8, 8, 7, 0, 1, 4, 0, 9, 7, 9, 9, 1, 2, 0, 4, 7, 4, 3, 4, 1, 7, 5, 7, 0, 9, 0, 0, 3, 1, 4, 7, 9, 3, 6, 7, 8, 4, 7, 4, 0, 8, 3, 0, 1, 7, 9, 6, 9, 1, 4, 6, 7, 1, 0, 6, 3, 7, 3, 1, 8, 6, 5, 9, 5, 8, 1, 0, 9, 2, 6, 2, 1, 1, 4, 7, 3, 0, 7, 5, 8, 9, 5, 4, 0, 4, 7, 2, 3, 8, 3, 8, 1, 1, 2, 4, 8, 1, 6, 8, 1, 8, 5, 3, 2, 7, 2, 2, 4, 9, 6, 0, 4, 9, 9, 6, 9, 9, 6, 7, 3, 4, 3, 3, 9, 4, 7, 7, 8, 1, 1, 6, 6, 5, 7, 9, 4, 7, 6, 7, 0, 0, 2, 9, 9, 7, 7, 5, 0, 1, 4, 3, 4, 6, 4, 0, 9, 8, 7, 8, 4, 4, 8, 9, 7, 1, 6, 7, 9, 9, 0, 1, 5, 1, 1, 3, 6, 7, 9, 8, 3, 3, 8, 5, 2, 4, 3, 6, 8, 6, 9, 0, 6, 9, 0, 1, 6, 8, 1, 8, 2, 1, 8, 1, 7, 1, 9, 1, 8, 0, 9, 4, 1, 0, 8, 4, 4, 6, 8, 2, 2, 5, 5, 0, 6, 6, 9, 8, 0, 1, 0, 0, 4, 8, 3, 4, 7, 7, 5, 9, 2, 5, 4, 4, 9, 9, 4, 8, 7, 6, 9, 3, 4, 0, 4, 8, 0, 1, 9, 2, 1, 6, 7, 1, 8, 5, 0, 4, 6, 4, 1, 1, 9, 8, 8, 9, 1, 2, 6, 0, 5, 2, 5, 6, 8, 3, 6, 1, 8, 6, 1, 5, 0, 3, 3, 1, 9, 2, 8, 7, 8, 2, 3, 6, 2, 5, 0, 9, 0, 7, 1, 1, 7, 9, 6, 1, 6, 7, 5, 4, 6, 3, 3, 6, 1, 6, 0, 9, 9, 8, 2, 9, 6, 2, 5, 4, 7, 2, 6, 5, 6, 0, 9, 3, 7, 0, 2, 3, 5, 6, 4, 3, 4, 6, 9, 8, 8, 3, 2, 0, 0, 3, 9, 2, 2, 8, 1, 9, 2, 4, 9, 3, 6, 2, 0, 6, 7, 0, 5, 0, 6, 3, 1, 3, 0, 9, 5, 4, 3, 7, 0, 6, 2, 9, 0, 7, 6, 5, 6, 8, 2, 1, 0, 6, 6, 5, 9, 3, 5, 0, 6, 0, 7, 4, 6, 8, 3, 3, 8, 6, 3, 8, 9, 4, 0, 8, 8, 3, 8, 0, 7, 7, 0, 3, 6, 8, 1, 5, 9, 6, 2, 8, 9, 0, 1, 0, 5, 5, 2, 2, 8, 2, 3, 6, 7, 4, 5, 3, 7, 4, 5, 8, 8, 3, 9, 5, 0, 6, 2, 6, 3, 6, 6, 9, 2, 5, 6, 5, 6, 3, 1, 7, 8, 0, 4, 7, 3, 3, 8, 6, 0, 9, 2, 8, 5, 4, 9, 6, 6, 4, 2, 0, 1, 1, 9, 3, 8, 2, 1, 9, 5, 8, 4, 8, 2, 3, 5, 3, 6, 4, 9, 2, 6, 2, 9, 8, 0, 5, 9, 2, 4, 5, 2, 1, 0, 7, 4, 4, 2, 7, 4, 0, 6, 6, 1, 5, 4, 0, 1, 9, 9, 5, 6, 5, 2, 9, 6, 6, 4, 5, 4, 8, 9, 0, 9, 5, 5, 5, 7, 9, 3, 3, 8, 4, 3, 9, 3, 1, 0, 2, 5, 2, 8, 7, 9, 7, 7, 7, 9, 2, 0, 0, 6, 7, 6, 1, 8, 0, 3, 8, 5, 0, 5, 6, 9, 1, 1, 2, 6, 8, 9, 7, 7, 5, 8, 6, 1, 4, 0, 1, 8, 4, 3, 4, 7, 9, 3, 7, 5, 5, 0, 9, 1, 2, 1, 2, 7, 6, 0, 9, 3, 2, 1, 1, 7, 8, 1, 6, 5, 9, 0, 0, 9, 5, 3, 8, 8, 2, 8, 5, 7, 0, 7, 0, 9, 6, 9, 2, 9, 4, 8, 5, 2, 0, 1, 6, 6, 1, 7, 6, 1, 7, 7, 8, 5, 7, 0, 6, 4, 2, 1, 6, 8, 0, 0, 2, 7, 5, 9, 1, 0, 4, 3, 7, 6, 6, 3, 1, 8, 4, 7, 2, 5, 9, 3, 1, 8, 1, 9, 2, 9, 6, 2, 2, 1, 8, 3, 9, 8, 2, 0, 4, 8, 4, 5, 1, 2, 2, 6, 4, 1, 8, 5, 7, 7, 7, 3, 5, 5, 7, 9, 9, 8, 2, 8, 2, 1, 3, 3, 4, 8, 9, 4, 0, 7, 6, 2, 8, 1, 0, 6, 1, 6, 5, 2, 9, 7, 2, 8, 7, 3, 7, 8, 1, 2, 1, 7, 4, 8, 8, 5, 0, 2, 6, 6, 1, 2, 6, 5, 0, 1, 5, 5, 2, 5, 1, 9, 8, 7, 1, 2, 7, 0, 9, 3, 1, 9, 0, 4, 6, 6, 5, 9, 9, 4, 2, 7, 1, 8, 1, 4, 2, 3, 7, 8, 4, 6, 4, 5, 1, 2, 9, 3, 5, 8, 0, 1, 9, 6, 7, 3, 7, 4, 4, 0, 6, 2, 1, 1, 3, 0, 7, 0, 5, 9, 8, 9, 3, 7, 9, 9, 4, 8, 8, 0, 1, 6, 4, 0, 6, 8, 1, 6, 1, 6, 3, 2, 7, 8, 7, 0, 4, 3, 4, 4, 5, 7, 9, 2, 5, 2, 4, 5, 0, 1, 7, 6, 7, 6, 0, 0, 0, 5, 1, 1, 2, 4, 6, 9, 8, 1, 6, 1, 6, 8, 5, 4, 0, 4, 0, 4, 9, 3, 8, 5, 2, 8, 6, 2, 8, 0, 4, 4, 0, 8, 7, 5, 2, 8, 9, 2, 9, 5, 9, 2, 1, 0, 4, 1, 7, 7, 1, 7, 3, 5, 8, 7, 2, 5, 1, 5, 2, 0, 6, 0, 1, 2, 4, 4, 8, 0, 3, 2, 0, 3, 5, 1, 3, 3, 0, 5, 1, 8, 3, 1, 8, 7, 8, 4, 2, 0, 0, 7, 8, 1, 3, 9, 0, 2, 8, 1, 4, 8, 8, 3, 0, 8, 5, 7, 5, 4, 7, 7, 6, 1, 8, 1, 9, 7, 0, 3, 1, 6, 5, 5, 3, 8, 9, 4, 0, 9, 5, 1, 7, 2, 1, 5, 2, 8, 3, 3, 6, 7, 1, 3, 4, 4, 5, 7, 0, 6, 7, 3, 3, 7, 8, 8, 2, 5, 6, 9, 7, 0, 2, 9, 3, 0, 5, 5, 6, 9, 1, 4, 1, 5, 6, 4, 1, 4, 0, 3, 3, 6, 3, 0, 8, 6, 7, 5, 5, 7, 0, 7, 9, 4, 4, 2, 9, 1, 7, 1, 8, 8, 8, 5, 8, 3, 8, 9, 3, 0, 0, 2, 1, 8, 4, 4, 0, 0, 9, 5, 3, 1, 5, 1, 3, 5, 0, 2, 6, 1, 5, 3, 0, 8, 6, 9, 6, 9, 6, 0, 4, 1, 6, 6, 4, 9, 1, 4, 9, 7, 8, 2, 6, 2, 9, 7, 8, 5, 6, 9, 6, 0, 0, 8, 1, 3, 2, 7, 5, 8, 4, 5, 6, 8, 9, 1, 9, 1, 8, 1, 5]\n",
            "[9 2 1 ... 8 1 5]\n"
          ],
          "name": "stdout"
        }
      ]
    },
    {
      "cell_type": "markdown",
      "metadata": {
        "id": "vrNWq-W9XmoC",
        "colab_type": "text"
      },
      "source": [
        "## Índice Davies-Bouldin\n"
      ]
    },
    {
      "cell_type": "code",
      "metadata": {
        "id": "A-JEe0f5Xqlv",
        "colab_type": "code",
        "colab": {
          "base_uri": "https://localhost:8080/",
          "height": 377
        },
        "outputId": "8a88651f-ba81-4303-92f3-a0a268f7535c"
      },
      "source": [
        "from sklearn.metrics import davies_bouldin_score\n",
        "davies_bouldin_score(test_labels, y_pred)"
      ],
      "execution_count": 39,
      "outputs": [
        {
          "output_type": "error",
          "ename": "ValueError",
          "evalue": "ignored",
          "traceback": [
            "\u001b[0;31m---------------------------------------------------------------------------\u001b[0m",
            "\u001b[0;31mValueError\u001b[0m                                Traceback (most recent call last)",
            "\u001b[0;32m<ipython-input-39-236c12a53364>\u001b[0m in \u001b[0;36m<module>\u001b[0;34m()\u001b[0m\n\u001b[1;32m      1\u001b[0m \u001b[0;32mfrom\u001b[0m \u001b[0msklearn\u001b[0m\u001b[0;34m.\u001b[0m\u001b[0mmetrics\u001b[0m \u001b[0;32mimport\u001b[0m \u001b[0mdavies_bouldin_score\u001b[0m\u001b[0;34m\u001b[0m\u001b[0;34m\u001b[0m\u001b[0m\n\u001b[0;32m----> 2\u001b[0;31m \u001b[0mdavies_bouldin_score\u001b[0m\u001b[0;34m(\u001b[0m\u001b[0mtest_labels\u001b[0m\u001b[0;34m,\u001b[0m \u001b[0my_pred\u001b[0m\u001b[0;34m)\u001b[0m\u001b[0;34m\u001b[0m\u001b[0;34m\u001b[0m\u001b[0m\n\u001b[0m",
            "\u001b[0;32m/usr/local/lib/python3.6/dist-packages/sklearn/metrics/cluster/_unsupervised.py\u001b[0m in \u001b[0;36mdavies_bouldin_score\u001b[0;34m(X, labels)\u001b[0m\n\u001b[1;32m    341\u001b[0m        \u001b[0mPAMI\u001b[0m\u001b[0;34m-\u001b[0m\u001b[0;36m1\u001b[0m \u001b[0;34m(\u001b[0m\u001b[0;36m2\u001b[0m\u001b[0;34m)\u001b[0m\u001b[0;34m:\u001b[0m \u001b[0;36m224\u001b[0m\u001b[0;34m-\u001b[0m\u001b[0;36m227\u001b[0m\u001b[0;34m\u001b[0m\u001b[0;34m\u001b[0m\u001b[0m\n\u001b[1;32m    342\u001b[0m     \"\"\"\n\u001b[0;32m--> 343\u001b[0;31m     \u001b[0mX\u001b[0m\u001b[0;34m,\u001b[0m \u001b[0mlabels\u001b[0m \u001b[0;34m=\u001b[0m \u001b[0mcheck_X_y\u001b[0m\u001b[0;34m(\u001b[0m\u001b[0mX\u001b[0m\u001b[0;34m,\u001b[0m \u001b[0mlabels\u001b[0m\u001b[0;34m)\u001b[0m\u001b[0;34m\u001b[0m\u001b[0;34m\u001b[0m\u001b[0m\n\u001b[0m\u001b[1;32m    344\u001b[0m     \u001b[0mle\u001b[0m \u001b[0;34m=\u001b[0m \u001b[0mLabelEncoder\u001b[0m\u001b[0;34m(\u001b[0m\u001b[0;34m)\u001b[0m\u001b[0;34m\u001b[0m\u001b[0;34m\u001b[0m\u001b[0m\n\u001b[1;32m    345\u001b[0m     \u001b[0mlabels\u001b[0m \u001b[0;34m=\u001b[0m \u001b[0mle\u001b[0m\u001b[0;34m.\u001b[0m\u001b[0mfit_transform\u001b[0m\u001b[0;34m(\u001b[0m\u001b[0mlabels\u001b[0m\u001b[0;34m)\u001b[0m\u001b[0;34m\u001b[0m\u001b[0;34m\u001b[0m\u001b[0m\n",
            "\u001b[0;32m/usr/local/lib/python3.6/dist-packages/sklearn/utils/validation.py\u001b[0m in \u001b[0;36mcheck_X_y\u001b[0;34m(X, y, accept_sparse, accept_large_sparse, dtype, order, copy, force_all_finite, ensure_2d, allow_nd, multi_output, ensure_min_samples, ensure_min_features, y_numeric, warn_on_dtype, estimator)\u001b[0m\n\u001b[1;32m    753\u001b[0m                     \u001b[0mensure_min_features\u001b[0m\u001b[0;34m=\u001b[0m\u001b[0mensure_min_features\u001b[0m\u001b[0;34m,\u001b[0m\u001b[0;34m\u001b[0m\u001b[0;34m\u001b[0m\u001b[0m\n\u001b[1;32m    754\u001b[0m                     \u001b[0mwarn_on_dtype\u001b[0m\u001b[0;34m=\u001b[0m\u001b[0mwarn_on_dtype\u001b[0m\u001b[0;34m,\u001b[0m\u001b[0;34m\u001b[0m\u001b[0;34m\u001b[0m\u001b[0m\n\u001b[0;32m--> 755\u001b[0;31m                     estimator=estimator)\n\u001b[0m\u001b[1;32m    756\u001b[0m     \u001b[0;32mif\u001b[0m \u001b[0mmulti_output\u001b[0m\u001b[0;34m:\u001b[0m\u001b[0;34m\u001b[0m\u001b[0;34m\u001b[0m\u001b[0m\n\u001b[1;32m    757\u001b[0m         y = check_array(y, 'csr', force_all_finite=True, ensure_2d=False,\n",
            "\u001b[0;32m/usr/local/lib/python3.6/dist-packages/sklearn/utils/validation.py\u001b[0m in \u001b[0;36mcheck_array\u001b[0;34m(array, accept_sparse, accept_large_sparse, dtype, order, copy, force_all_finite, ensure_2d, allow_nd, ensure_min_samples, ensure_min_features, warn_on_dtype, estimator)\u001b[0m\n\u001b[1;32m    554\u001b[0m                     \u001b[0;34m\"Reshape your data either using array.reshape(-1, 1) if \"\u001b[0m\u001b[0;34m\u001b[0m\u001b[0;34m\u001b[0m\u001b[0m\n\u001b[1;32m    555\u001b[0m                     \u001b[0;34m\"your data has a single feature or array.reshape(1, -1) \"\u001b[0m\u001b[0;34m\u001b[0m\u001b[0;34m\u001b[0m\u001b[0m\n\u001b[0;32m--> 556\u001b[0;31m                     \"if it contains a single sample.\".format(array))\n\u001b[0m\u001b[1;32m    557\u001b[0m \u001b[0;34m\u001b[0m\u001b[0m\n\u001b[1;32m    558\u001b[0m         \u001b[0;31m# in the future np.flexible dtypes will be handled like object dtypes\u001b[0m\u001b[0;34m\u001b[0m\u001b[0;34m\u001b[0m\u001b[0;34m\u001b[0m\u001b[0m\n",
            "\u001b[0;31mValueError\u001b[0m: Expected 2D array, got 1D array instead:\narray=[9 2 1 ... 8 1 5].\nReshape your data either using array.reshape(-1, 1) if your data has a single feature or array.reshape(1, -1) if it contains a single sample."
          ]
        }
      ]
    },
    {
      "cell_type": "markdown",
      "metadata": {
        "id": "2f7QhPk-ZA6a",
        "colab_type": "text"
      },
      "source": [
        "## Matriz de contigencia"
      ]
    },
    {
      "cell_type": "code",
      "metadata": {
        "id": "C_El99PfY3pw",
        "colab_type": "code",
        "colab": {
          "base_uri": "https://localhost:8080/",
          "height": 187
        },
        "outputId": "bbf71b34-bd3a-442a-8495-901d44af2cb4"
      },
      "source": [
        "from sklearn.metrics.cluster import contingency_matrix\n",
        "contingency_matrix(y_true, y_pred)"
      ],
      "execution_count": 35,
      "outputs": [
        {
          "output_type": "execute_result",
          "data": {
            "text/plain": [
              "array([[902,   1,  15,  16,   5,   0,  57,   0,   4,   0],\n",
              "       [  4, 973,   1,  15,   4,   0,   3,   0,   0,   0],\n",
              "       [ 22,   0, 837,  11,  96,   0,  34,   0,   0,   0],\n",
              "       [ 36,   4,  13, 866,  57,   0,  21,   0,   3,   0],\n",
              "       [  1,   0, 118,  19, 830,   0,  31,   0,   1,   0],\n",
              "       [  0,   0,   0,   1,   0, 952,   0,  15,   3,  29],\n",
              "       [182,   2, 128,  28,  95,   0, 561,   0,   4,   0],\n",
              "       [  0,   0,   0,   0,   0,  14,   0, 922,   0,  64],\n",
              "       [  7,   0,   5,   6,   5,   2,   9,   4, 962,   0],\n",
              "       [  0,   0,   0,   0,   0,   5,   1,  15,   0, 979]])"
            ]
          },
          "metadata": {
            "tags": []
          },
          "execution_count": 35
        }
      ]
    },
    {
      "cell_type": "markdown",
      "metadata": {
        "id": "5WCbu8smZDmk",
        "colab_type": "text"
      },
      "source": [
        "## Score de informacion mutua"
      ]
    },
    {
      "cell_type": "code",
      "metadata": {
        "id": "nZ2hXP3LZHVE",
        "colab_type": "code",
        "colab": {
          "base_uri": "https://localhost:8080/",
          "height": 34
        },
        "outputId": "c1219fcc-3a6a-4e95-b10b-66495ff40f13"
      },
      "source": [
        "from sklearn import metrics\n",
        "metrics.adjusted_mutual_info_score(y_true, y_pred) "
      ],
      "execution_count": 36,
      "outputs": [
        {
          "output_type": "execute_result",
          "data": {
            "text/plain": [
              "0.7996254066468007"
            ]
          },
          "metadata": {
            "tags": []
          },
          "execution_count": 36
        }
      ]
    },
    {
      "cell_type": "markdown",
      "metadata": {
        "id": "veOEX8PCZSFc",
        "colab_type": "text"
      },
      "source": [
        "## Indice de similitud de Fowlkes-Mallows"
      ]
    },
    {
      "cell_type": "code",
      "metadata": {
        "id": "tNqpfnV3ZcAz",
        "colab_type": "code",
        "colab": {
          "base_uri": "https://localhost:8080/",
          "height": 34
        },
        "outputId": "944b7be0-0f66-4245-e049-c49936916d0d"
      },
      "source": [
        "from sklearn.metrics.cluster import fowlkes_mallows_score\n",
        "fowlkes_mallows_score(y_true, y_pred)"
      ],
      "execution_count": 37,
      "outputs": [
        {
          "output_type": "execute_result",
          "data": {
            "text/plain": [
              "0.7899680822960565"
            ]
          },
          "metadata": {
            "tags": []
          },
          "execution_count": 37
        }
      ]
    }
  ]
}